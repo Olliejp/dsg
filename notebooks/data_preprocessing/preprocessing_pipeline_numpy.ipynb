{
 "cells": [
  {
   "cell_type": "markdown",
   "metadata": {
    "collapsed": false
   },
   "source": [
    "## Install packages"
   ]
  },
  {
   "cell_type": "code",
   "execution_count": 1,
   "metadata": {
    "collapsed": false
   },
   "outputs": [
   ],
   "source": [
    "# !pip3 install --user pandas\n",
    "# !pip3 install --user numpy\n",
    "# !pip3 install --user joblib\n",
    "# !pip3 install --user scipy"
   ]
  },
  {
   "cell_type": "markdown",
   "metadata": {
    "collapsed": false
   },
   "source": [
    "## Import librairies and functions"
   ]
  },
  {
   "cell_type": "code",
   "execution_count": 88,
   "metadata": {
    "collapsed": false
   },
   "outputs": [
   ],
   "source": [
    "import joblib\n",
    "import os\n",
    "import pandas as pd\n",
    "import numpy as np\n",
    "from scipy import interpolate\n",
    "import pandas as pd\n",
    "from typing import Dict, List\n",
    "import matplotlib.pyplot as pyplot\n",
    "%matplotlib inline \n",
    "\n",
    "def load(directory: str, filename: str) -> pd.DataFrame:\n",
    "    \"\"\"\n",
    "    Load a dataframe from pickle format.\n",
    "    \"\"\"\n",
    "    path = os.path.join(directory, filename)\n",
    "    df = joblib.load(path)\n",
    "    return df\n",
    "\n",
    "def load_numpy(directory: str, filename: str) -> np.array:\n",
    "    \"\"\"\n",
    "    Load a dataframe from pickle format.\n",
    "    \"\"\"\n",
    "    path = os.path.join(directory, filename)\n",
    "    np_array = joblib.load(path)\n",
    "    return np_array\n",
    "\n",
    "def save(df: pd.DataFrame, directory: str, filename: str) -> pd.DataFrame:\n",
    "    \"\"\"\n",
    "    Save a dataframe into pickle format.\n",
    "    \"\"\"\n",
    "    path = os.path.join(directory, filename)\n",
    "    joblib.dump(df, path)\n",
    "\n",
    "    \n",
    "\n",
    "def save_numpy(df: pd.DataFrame, directory: str, filename: str) -> pd.DataFrame:\n",
    "    \"\"\"\n",
    "    convert a dataframe into numpy and save into pickle format.\n",
    "    \"\"\"\n",
    "    path = os.path.join(directory, filename)\n",
    "    joblib.dump(df.to_numpy(), path)\n",
    "\n",
    "def clean_batch_of_raw_data_time_windowed(\n",
    "    df: pd.DataFrame,\n",
    "    time_window: float,\n",
    "    means,\n",
    "    stds\n",
    ") -> pd.DataFrame:\n",
    "    \"\"\"\n",
    "    Clean a batch of raw data.\n",
    "\n",
    "    Parameters\n",
    "    ----------\n",
    "    df : pd.DataFrame\n",
    "        A batch of raw messages.\n",
    "\n",
    "    Returns\n",
    "    -------\n",
    "    pd.DataFrame\n",
    "        Batch of clean data\n",
    "    \"\"\"\n",
    "    df = convert_objects_to_float(df)\n",
    "    df = add_NSG_columns_and_sort_columns_alphabetically(df)\n",
    "    df = angle_transform(df)\n",
    "    df = remove_disturbance(df)\n",
    "    df = keep_fixed_time_data(df, time_window)\n",
    "    df = interpolation_reconstruction_delta_T(df, 0.01)\n",
    "    df = normalise_df(df, means, stds)\n",
    "#     df = df.droplevel(1, axis=1) # removed by amar\n",
    "    return df\n",
    "\n",
    "\n",
    "\n",
    "def load_clean_save_data_numpy_by_batch(\n",
    "    root_dir: str,\n",
    "    output_data_dir: str,\n",
    "    sep: str,\n",
    "    header: List[int],\n",
    "    time_window: float,\n",
    "    means,\n",
    "    stds\n",
    ") -> np.array:\n",
    "    \"\"\"\n",
    "    Load, clean and save raw data batch by batch.\n",
    "\n",
    "    Parameters\n",
    "    ----------\n",
    "    root_dir : str\n",
    "        Directory to probe for loading.\n",
    "    output_data_dir : str\n",
    "        Directory where to save cleaned data.\n",
    "    sep : str\n",
    "        Separator used when reading CSVs.\n",
    "    cols_to_keep : List[str]\n",
    "        List of columns to keep. All other columns are dropped.\n",
    "    \"\"\"\n",
    "    for i, file in enumerate(os.listdir(root_dir)):\n",
    "#         if i > 40:\n",
    "#             break\n",
    "        if file.endswith('results_cascs.csv'):\n",
    "            continue\n",
    "        else:\n",
    "            if i%20 ==0: \n",
    "                print(i, file) # give multiples of 2 here\n",
    "            file_path = os.path.join(root_dir, file)\n",
    "            df = pd.read_csv(file_path, sep=',', header=[0,1])\n",
    "            try:\n",
    "                df = clean_batch_of_raw_data_time_windowed(df, time_window, means, stds)\n",
    "                save_numpy(df, output_data_dir, file.split(\"_\")[0]+'.pkl')\n",
    "                if i% 20 ==0: \n",
    "                    print(i, output_data_dir, '/' , file.split(\"_\")[0]+'.pkl' )  # give multiples of 2 here\n",
    "            except:\n",
    "                print(\"----- Error in processing \", file, \" --- Mostly due to cascading failure \")\n",
    "            \n",
    "\n",
    "\n",
    "\n",
    "def load_clean_save_raw_data_by_batch(\n",
    "    root_dir: str,\n",
    "    output_data_dir: str,\n",
    "    sep: str,\n",
    "    header: List[int],\n",
    "    time_window: float,\n",
    "    means,\n",
    "    stds\n",
    ") -> pd.DataFrame:\n",
    "    \"\"\"\n",
    "    Load, clean and save raw data batch by batch.\n",
    "\n",
    "    Parameters\n",
    "    ----------\n",
    "    root_dir : str\n",
    "        Directory to probe for loading.\n",
    "    output_data_dir : str\n",
    "        Directory where to save cleaned data.\n",
    "    sep : str\n",
    "        Separator used when reading CSVs.\n",
    "    cols_to_keep : List[str]\n",
    "        List of columns to keep. All other columns are dropped.\n",
    "    \"\"\"\n",
    "    for i, file in enumerate(os.listdir(root_dir)):\n",
    "        if i > 10:\n",
    "            break\n",
    "        if file.endswith('results_cascs.csv'):\n",
    "            continue\n",
    "        else:\n",
    "            print(i, file)\n",
    "            file_path = os.path.join(root_dir, file)\n",
    "            df = pd.read_csv(file_path, sep=',', header=[0,1])\n",
    "            try:\n",
    "                df = clean_batch_of_raw_data_time_windowed(df, time_window, means, stds)\n",
    "                save(df, output_data_dir, file.replace('.csv', '.pkl'))\n",
    "            except:\n",
    "                print(\"----- Error in processing \", file, \" --- Mostly due to cascading failure \")\n",
    "            \n",
    "\n",
    "def get_list_simulations(root_dir: str) -> List[str]:\n",
    "    \"\"\"\n",
    "    Get a list with all the name of the simulation csv files.\n",
    "    \"\"\"\n",
    "    file_list_simulations = []\n",
    "    for i, file in enumerate(os.listdir(root_dir)):\n",
    "        if file.endswith('results_cascs.csv'):\n",
    "            continue\n",
    "        else:\n",
    "            file_list_simulations.append(file)\n",
    "    return file_list_simulations\n",
    "\n",
    "\n",
    "def get_dict_scenario_csv(file_list_simulations: List[str]) -> Dict[int, str]:\n",
    "    \"\"\"\n",
    "    Build dictionary of scenario number and the corresponding name of the csv file\n",
    "    with simulation data.\n",
    "    \"\"\"\n",
    "    simulation_files_dict = {}\n",
    "    for file_name in file_list_simulations:\n",
    "        simulation_files_dict[int(file_name.split(\"_\")[0])] = file_name\n",
    "    return simulation_files_dict\n",
    "\n",
    "\n",
    "def add_NSG_columns_and_sort_columns_alphabetically(\n",
    "    df: pd.DataFrame\n",
    ") -> pd.DataFrame:\n",
    "    \"\"\"\n",
    "    Add NSG columns when missing from dataframe in order\n",
    "    to get homogeneous set of columns in each dataframe.\n",
    "    \"\"\"\n",
    "    cols_to_add = [('NSG_1', 'Active Power in MW'), ('NSG_1', 'Reactive Power in Mvar' ), ('NSG_2', 'Active Power in MW'), ('NSG_3', 'Active Power in MW')]\n",
    "    for col in cols_to_add:\n",
    "        if not col in df.columns:\n",
    "            df[col] = '0'\n",
    "    df = df.sort_index(axis=1)\n",
    "    return df\n",
    "\n",
    "\n",
    "def convert_objects_to_float(df: pd.DataFrame) -> pd.DataFrame:\n",
    "    \"\"\"\n",
    "    Convert columns with object dtype to floats in order to use them in models.\n",
    "    \"\"\"\n",
    "    indicator = df.dtypes == 'object'\n",
    "    categorical_columns = df.columns[indicator].tolist()\n",
    "    for col in categorical_columns:\n",
    "        df[col] = df[col].astype('float')\n",
    "    return df\n",
    "\n",
    "\n",
    "def interpolation_reconstruction_delta_T(df: pd.DataFrame, delta_T: float = 0.01) -> pd.DataFrame:\n",
    "    \"\"\"\n",
    "    Compute interpolated timestamp for each scenario.\n",
    "    The interpolation is made on a regular grid of x-values spanning the same interval as during the simulatio with a delta_T specified by user.\n",
    "    IMPORTANT - ASSUMES time.min() < 1.08\n",
    "    \n",
    "    Parameters\n",
    "    ----------\n",
    "    df : pd.DataFrame\n",
    "        Simulation dataframe\n",
    "    delta_T : float\n",
    "        The time difference between consecutive data.\n",
    "    \"\"\"\n",
    "    list_concat = []\n",
    "    for col in df.columns[1:]:\n",
    "        X = df['All calculations', 'Time in s'].values\n",
    "        y = df[col].values\n",
    "        f = interpolate.interp1d(X, y, kind='slinear')\n",
    "        xgrid = np.arange(1.08, X.max(), delta_T)\n",
    "        ygrid = f(xgrid)\n",
    "        to_concat = pd.DataFrame(\n",
    "            {('All calculations', 'Time in s'): xgrid, col: ygrid})\n",
    "        list_concat.append(to_concat)\n",
    "    dfs = [df.set_index(('All calculations', 'Time in s'))\n",
    "           for df in list_concat]\n",
    "    interpolate_construction = pd.concat(dfs, axis=1)\n",
    "    return interpolate_construction.reset_index()\n",
    "\n",
    "\n",
    "def pre_normalisation_mean_and_std(df):\n",
    "    \"\"\"\n",
    "    find mean and std of a given df for\n",
    "    normalisation purposes\n",
    "\n",
    "    \"\"\"\n",
    "    x = df.values.astype(float)\n",
    "    mean = x.mean(axis=0)\n",
    "    std = x.std(axis=0)\n",
    "    return mean, std\n",
    "\n",
    "\n",
    "def pre_scaling(df):\n",
    "    \"\"\"\n",
    "    find scalling of a given df for\n",
    "    normalisation purposes. Returning a mean and std to match output of 'pre_normalisation_mean_and_std'\n",
    "    The mean in this case is 0 and the std is the scaling\n",
    "\n",
    "    \"\"\"\n",
    "    df[df.filter(regex='p.u.').columns] = 1.0 # replacing values of the columns in p.u. with 1\n",
    "    df[df.filter(regex='MW').columns] = 100.0 # replacing values of the columns in MW with 100\n",
    "    df[df.filter(regex='Mvar').columns] = 100.0 # replacing values of the columns in Mvar with 100\n",
    "    df[df.filter(regex='kA').columns] = 100.0 # replacing values of the columns in kA with 100\n",
    "    x = df.values.astype(float)\n",
    "    std = np.abs(x).max(axis=0)\n",
    "    mean = np.zeros(std.shape)\n",
    "    return mean, std\n",
    "    \n",
    "\n",
    "def find_means_and_stds(sample_size, root_dir, simulation_files_dict, time_window):\n",
    "    \"\"\"\n",
    "    find the average mean and std of each column from\n",
    "    a sample of size sample_size\n",
    "    run this before running clean_batch_of_raw_data()\n",
    "\n",
    "    \"\"\"\n",
    "    means = []\n",
    "    stds = []\n",
    "    random_chosen_files = np.random.choice(44000, sample_size, replace = False) # Amar - choosing randomly to avoid bias\n",
    "    samples = 0\n",
    "    for i in range(sample_size):\n",
    "        df = pd.read_csv(os.path.join(root_dir,\n",
    "                                    simulation_files_dict[random_chosen_files[i]]), sep=',', header=[0, 1])\n",
    "        df = convert_objects_to_float(df)\n",
    "        df = add_NSG_columns_and_sort_columns_alphabetically(df)\n",
    "        df = angle_transform(df)\n",
    "        df = remove_disturbance(df)\n",
    "        n_cols = df.shape[1]\n",
    "#         df = keep_fixed_time_data(df, time_window)\n",
    "#         df = interpolation_reconstruction_delta_T(df, delta_T=0.01)\n",
    "#         mean, std = pre_normalisation_mean_and_std(df) # commented by Amar\n",
    "        try:\n",
    "            mean, std = pre_scaling(df)\n",
    "            means.append(mean)\n",
    "            stds.append(std)\n",
    "            samples = samples+1\n",
    "        except:\n",
    "            pass\n",
    "    print(\"Final sample size is \", samples)\n",
    "    return np.concatenate((means)).reshape(samples, n_cols).mean(axis=0).reshape(1, n_cols), np.concatenate((stds)).reshape(samples, n_cols).max(axis=0).reshape(1, n_cols) # changed by Amar to 'max' from 'mean'\n",
    "\n",
    "\n",
    "def normalise_df(df, means, stds):\n",
    "    \"\"\"\n",
    "    normalise a single dataframe column by column\n",
    "    it is probably possible to vectorise this and make it faster...\n",
    "    means and stds can either be saved to the workspace or can\n",
    "    change clean_batch_of_raw_data() to take them as inputs\n",
    "\n",
    "    \"\"\"\n",
    "    n_cols = df.shape[1]\n",
    "    for i in range(1, n_cols):\n",
    "        df.iloc[:, i] = df.iloc[:, i].astype(float) - means[0][i]\n",
    "        if stds[0][i] == 0:  # some variables may return zero st. dev. for certain batches\n",
    "            continue\n",
    "        else:\n",
    "            df.iloc[:, i] = df.iloc[:, i].astype(float)/stds[0][i]\n",
    "    return df\n",
    "\n",
    "\n",
    "def remove_disturbance(df: pd.DataFrame) -> pd.DataFrame:\n",
    "    \"\"\"\n",
    "    Remove all data before the disturbance happens,\n",
    "    it is said to happen at 1.075s\n",
    "    \"\"\"\n",
    "    where = df['All calculations', 'Time in s'].astype(float) > 1.075\n",
    "    return df[where]\n",
    "\n",
    "\n",
    "def angle_transform(df):\n",
    "\n",
    "    \"\"\"\n",
    "    Transform angle data: theta -> (sin(theta), cos(theta))\n",
    "    creates two new columns and removes the angle column\n",
    "    note that this adds 10 new columns to the dataframe\n",
    "    \"\"\"\n",
    "\n",
    "    generators = [\"G 01\", \"G 02\", \"G 03\", \"G 04\", \"G 05\", \"G 06\", \"G 07\", \"G 08\", \"G 09\", \"G 10\"]\n",
    "\n",
    "    for gen in generators:\n",
    "        sinangle = np.sin((np.pi/180)*df.loc[:, (gen, \"Rotor angle with reference to reference machine angle in deg\")])\n",
    "        cosangle = np.cos((np.pi/180)*df.loc[:, (gen, \"Rotor angle with reference to reference machine angle in deg\")])\n",
    "        columns = df.columns\n",
    "        sinangleind = columns.get_loc((gen, \"Rotor angle with reference to reference machine angle in deg\"))\n",
    "        df = df.drop((gen, \"Rotor angle with reference to reference machine angle in deg\"), axis = 1)\n",
    "        df.insert(sinangleind, (gen, \"sin of rotor angle\"), sinangle)\n",
    "        df.insert(sinangleind+1, (gen, \"cos of rotor angle\"), cosangle)\n",
    "    return df\n",
    "\n",
    "\n",
    "def remove_disturbance(df: pd.DataFrame) -> pd.DataFrame:\n",
    "    \"\"\"\n",
    "    Remove all data before the disturbance happens,\n",
    "    it is said to happen at 1.075s\n",
    "    \"\"\"\n",
    "    where = df['All calculations', 'Time in s'].astype(float) > 1.075\n",
    "    return df[where]\n",
    "\n",
    "\n",
    "def remove_pre_cascade_data(df: pd.DataFrame, time_cutoff: float = 0.5) -> pd.DataFrame:\n",
    "    \"\"\"\n",
    "    Remove all data just before cascading occurs. The 'time_cutoff' gives the time before the cascade that we stop the data  \n",
    "    \"\"\"\n",
    "    X = df['All calculations', 'Time in s'].values\n",
    "    where = df['All calculations', 'Time in s'].astype(float) < X.max() - time_cutoff\n",
    "    return df[where]\n",
    "\n",
    "\n",
    "def keep_fixed_time_data(df: pd.DataFrame, time_window: float = 1.3) -> pd.DataFrame:\n",
    "    \"\"\"\n",
    "    Keep only data in a small time_window after the start of the data-set. The 'time_window' gives the time for which we will retain the data  \n",
    "    \"\"\"\n",
    "    X = df['All calculations', 'Time in s'].values\n",
    "    where = df['All calculations', 'Time in s'].astype(float) < X.min() + time_window\n",
    "    return df[where]"
   ]
  },
  {
   "cell_type": "markdown",
   "metadata": {
    "collapsed": false
   },
   "source": [
    "### Get dictionnary"
   ]
  },
  {
   "cell_type": "code",
   "execution_count": 3,
   "metadata": {
    "collapsed": false
   },
   "outputs": [
   ],
   "source": [
    "root_dir = '/data/Data'\n",
    "\n",
    "file_list_simulations= get_list_simulations(root_dir)\n",
    "simulation_files_dict = get_dict_scenario_csv(file_list_simulations)"
   ]
  },
  {
   "cell_type": "code",
   "execution_count": 4,
   "metadata": {
    "collapsed": false
   },
   "outputs": [
    {
     "data": {
      "text/plain": [
       "44064"
      ]
     },
     "execution_count": 4,
     "metadata": {
     },
     "output_type": "execute_result"
    }
   ],
   "source": [
    "len(simulation_files_dict.keys())"
   ]
  },
  {
   "cell_type": "markdown",
   "metadata": {
    "collapsed": false
   },
   "source": [
    "### Gets lists for normalization"
   ]
  },
  {
   "cell_type": "code",
   "execution_count": 82,
   "metadata": {
    "collapsed": false
   },
   "outputs": [
    {
     "name": "stdout",
     "output_type": "stream",
     "text": [
      "Final sample size is  30\n"
     ]
    },
    {
     "data": {
      "text/plain": [
       "['scaling.pkl']"
      ]
     },
     "execution_count": 82,
     "metadata": {
     },
     "output_type": "execute_result"
    }
   ],
   "source": [
    "means, stds = find_means_and_stds(30, root_dir, simulation_files_dict, time_window = 10.0) # means are all zero. stds is the max value\n",
    "# stds[0][0] = 1 # std of time = 1\n",
    "joblib.dump(stds,\"scaling.pkl\")"
   ]
  },
  {
   "cell_type": "code",
   "execution_count": 87,
   "metadata": {
    "collapsed": false,
    "scrolled": true
   },
   "outputs": [
    {
     "name": "stdout",
     "output_type": "stream",
     "text": [
      "[[120.           1.           1.           1.           1.\n",
      "    1.           1.           1.           1.           1.\n",
      "    1.           1.           1.           1.           1.\n",
      "    1.           1.           1.           1.           1.\n",
      "    1.           1.           1.           1.           1.\n",
      "    1.           1.           1.           1.           1.\n",
      "    1.           1.           1.           1.           1.\n",
      "    1.           1.           1.           1.           1.\n",
      "    1.           1.           1.           1.           1.\n",
      "    1.           1.           1.           1.           1.\n",
      "    1.           1.           1.           1.           1.\n",
      "    1.           1.           1.           1.           1.\n",
      "    1.           1.           1.           1.           1.\n",
      "    1.           1.           1.           1.           1.\n",
      "    1.           1.           1.           1.           1.\n",
      "    1.           1.           1.         100.         100.\n",
      "    0.99999995   0.99999999   1.           1.         100.\n",
      "  100.           0.           1.           1.           1.\n",
      "  100.         100.           0.30810716   0.99978368   1.\n",
      "    1.         100.         100.           0.67400047   1.\n",
      "    1.           1.         100.         100.           0.6154573\n",
      "    1.           1.           1.         100.         100.\n",
      "    0.68899967   1.           1.           1.         100.\n",
      "  100.           0.76120747   0.99999995   1.           1.\n",
      "  100.         100.           0.42181289   0.99999975   1.\n",
      "    1.         100.         100.           0.90881618   1.\n",
      "    1.           1.         100.         100.           0.87515215\n",
      "    0.9878631    1.         100.         100.         100.\n",
      "  100.         100.         100.         100.         100.\n",
      "  100.         100.         100.         100.         100.\n",
      "  100.         100.         100.         100.         100.\n",
      "  100.         100.         100.         100.         100.\n",
      "  100.         100.         100.         100.         100.\n",
      "  100.         100.         100.         100.         100.\n",
      "  100.         100.         100.         100.         100.\n",
      "  100.         100.         100.         100.         100.\n",
      "  100.         100.         100.         100.         100.\n",
      "  100.         100.         100.         100.         100.\n",
      "  100.         100.         100.         100.         100.\n",
      "  100.         100.         100.         100.         100.\n",
      "  100.         100.         100.         100.         100.\n",
      "  100.         100.         100.         100.         100.\n",
      "  100.         100.         100.         100.         100.\n",
      "  100.         100.         100.         100.         100.\n",
      "  100.         100.         100.         100.         100.\n",
      "  100.         100.         100.         100.         100.\n",
      "  100.         100.         100.         100.         100.\n",
      "  100.         100.         100.         100.         100.\n",
      "  100.         100.         100.           3.           9.\n",
      "   12.          13.           9.           6.           4.\n",
      "    3.           5.           3.           4.           8.\n",
      "    5.           5.           3.           5.           4.        ]]\n"
     ]
    }
   ],
   "source": [
    "print(stds)"
   ]
  },
  {
   "cell_type": "markdown",
   "metadata": {
    "collapsed": false
   },
   "source": [
    "## Launch preprocessing pipeline"
   ]
  },
  {
   "cell_type": "code",
   "execution_count": 0,
   "metadata": {
    "collapsed": false
   },
   "outputs": [
   ],
   "source": [
    "os.makedirs(os.path.join('/output/', '02_preprocessed_numpy'), exist_ok=True)"
   ]
  },
  {
   "cell_type": "code",
   "execution_count": 89,
   "metadata": {
    "collapsed": false,
    "scrolled": true
   },
   "outputs": [
    {
     "name": "stdout",
     "output_type": "stream",
     "text": [
      "0 10000_Line 10 - 11_load=0.8_wind=0.4_0.2_0.csv\n"
     ]
    },
    {
     "name": "stdout",
     "output_type": "stream",
     "text": [
      "0 /output/02_preprocessed_numpy / 10000.pkl\n"
     ]
    },
    {
     "name": "stdout",
     "output_type": "stream",
     "text": [
      "20 1000_Line 22 - 23_load=0.7_wind=0_0.8_1.0.csv\n"
     ]
    },
    {
     "name": "stdout",
     "output_type": "stream",
     "text": [
      "20 /output/02_preprocessed_numpy / 1000.pkl\n"
     ]
    },
    {
     "name": "stdout",
     "output_type": "stream",
     "text": [
      "40 10019_Line 26 - 27_load=0.8_wind=0.4_0.2_0.csv\n"
     ]
    },
    {
     "name": "stdout",
     "output_type": "stream",
     "text": [
      "40 /output/02_preprocessed_numpy / 10019.pkl\n"
     ]
    },
    {
     "name": "stdout",
     "output_type": "stream",
     "text": [
      "60 10028_Line 09 - 39_load=0.8_wind=0.4_0.2_0.csv\n"
     ]
    },
    {
     "name": "stdout",
     "output_type": "stream",
     "text": [
      "60 /output/02_preprocessed_numpy / 10028.pkl\n"
     ]
    },
    {
     "name": "stdout",
     "output_type": "stream",
     "text": [
      "80 10037_Line 16 - 19_load=0.8_wind=0.4_0.2_0.2.csv\n"
     ]
    },
    {
     "name": "stdout",
     "output_type": "stream",
     "text": [
      "80 /output/02_preprocessed_numpy / 10037.pkl\n"
     ]
    },
    {
     "name": "stdout",
     "output_type": "stream",
     "text": [
      "100 10046_Line 03 - 18_load=0.8_wind=0.4_0.2_0.2.csv\n"
     ]
    },
    {
     "name": "stdout",
     "output_type": "stream",
     "text": [
      "100 /output/02_preprocessed_numpy / 10046.pkl\n"
     ]
    },
    {
     "name": "stdout",
     "output_type": "stream",
     "text": [
      "120 10055_Line 16 - 17_load=0.8_wind=0.4_0.2_0.2.csv\n"
     ]
    },
    {
     "name": "stdout",
     "output_type": "stream",
     "text": [
      "120 /output/02_preprocessed_numpy / 10055.pkl\n"
     ]
    },
    {
     "name": "stdout",
     "output_type": "stream",
     "text": [
      "140 10064_Line 05 - 06_load=0.8_wind=0.4_0.2_0.2.csv\n"
     ]
    },
    {
     "name": "stdout",
     "output_type": "stream",
     "text": [
      "140 /output/02_preprocessed_numpy / 10064.pkl\n"
     ]
    },
    {
     "name": "stdout",
     "output_type": "stream",
     "text": [
      "160 10073_Line 16 - 24_load=0.8_wind=0.4_0.2_0.4.csv\n"
     ]
    },
    {
     "name": "stdout",
     "output_type": "stream",
     "text": [
      "160 /output/02_preprocessed_numpy / 10073.pkl\n"
     ]
    },
    {
     "name": "stdout",
     "output_type": "stream",
     "text": [
      "180 10082_Line 07 - 08_load=0.8_wind=0.4_0.2_0.4.csv\n"
     ]
    },
    {
     "name": "stdout",
     "output_type": "stream",
     "text": [
      "180 /output/02_preprocessed_numpy / 10082.pkl\n"
     ]
    },
    {
     "name": "stdout",
     "output_type": "stream",
     "text": [
      "200 10091_Line 14 - 15_load=0.8_wind=0.4_0.2_0.4.csv\n"
     ]
    },
    {
     "name": "stdout",
     "output_type": "stream",
     "text": [
      "200 /output/02_preprocessed_numpy / 10091.pkl\n"
     ]
    },
    {
     "name": "stdout",
     "output_type": "stream",
     "text": [
      "220 100_Line 09 - 39_load=0.7_wind=0_0_0.4.csv\n"
     ]
    },
    {
     "name": "stdout",
     "output_type": "stream",
     "text": [
      "220 /output/02_preprocessed_numpy / 100.pkl\n"
     ]
    },
    {
     "name": "stdout",
     "output_type": "stream",
     "text": [
      "240 10109_Line 26 - 29_load=0.8_wind=0.4_0.2_0.6.csv\n"
     ]
    },
    {
     "name": "stdout",
     "output_type": "stream",
     "text": [
      "240 /output/02_preprocessed_numpy / 10109.pkl\n"
     ]
    },
    {
     "name": "stdout",
     "output_type": "stream",
     "text": [
      "260 10118_Line 01 - 02_load=0.8_wind=0.4_0.2_0.6.csv\n"
     ]
    },
    {
     "name": "stdout",
     "output_type": "stream",
     "text": [
      "260 /output/02_preprocessed_numpy / 10118.pkl\n"
     ]
    },
    {
     "name": "stdout",
     "output_type": "stream",
     "text": [
      "280 10127_Line 03 - 04_load=0.8_wind=0.4_0.2_0.6.csv\n"
     ]
    },
    {
     "name": "stdout",
     "output_type": "stream",
     "text": [
      "280 /output/02_preprocessed_numpy / 10127.pkl\n"
     ]
    },
    {
     "name": "stdout",
     "output_type": "stream",
     "text": [
      "300 10136_Line 10 - 11_load=0.8_wind=0.4_0.2_0.8.csv\n"
     ]
    },
    {
     "name": "stdout",
     "output_type": "stream",
     "text": [
      "300 /output/02_preprocessed_numpy / 10136.pkl\n"
     ]
    },
    {
     "name": "stdout",
     "output_type": "stream",
     "text": [
      "320 10145_Line 23 - 24_load=0.8_wind=0.4_0.2_0.8.csv\n"
     ]
    },
    {
     "name": "stdout",
     "output_type": "stream",
     "text": [
      "320 /output/02_preprocessed_numpy / 10145.pkl\n"
     ]
    },
    {
     "name": "stdout",
     "output_type": "stream",
     "text": [
      "340 10154_Line 17 - 18_load=0.8_wind=0.4_0.2_0.8.csv\n"
     ]
    },
    {
     "name": "stdout",
     "output_type": "stream",
     "text": [
      "340 /output/02_preprocessed_numpy / 10154.pkl\n"
     ]
    },
    {
     "name": "stdout",
     "output_type": "stream",
     "text": [
      "360 10163_Line 01 - 39_load=0.8_wind=0.4_0.2_0.8.csv\n"
     ]
    },
    {
     "name": "stdout",
     "output_type": "stream",
     "text": [
      "360 /output/02_preprocessed_numpy / 10163.pkl\n"
     ]
    },
    {
     "name": "stdout",
     "output_type": "stream",
     "text": [
      "380 10172_Line 13 - 14_load=0.8_wind=0.4_0.2_1.0.csv\n"
     ]
    },
    {
     "name": "stdout",
     "output_type": "stream",
     "text": [
      "380 /output/02_preprocessed_numpy / 10172.pkl\n"
     ]
    },
    {
     "name": "stdout",
     "output_type": "stream",
     "text": [
      "400 10181_Line 21 - 22_load=0.8_wind=0.4_0.2_1.0.csv\n"
     ]
    },
    {
     "name": "stdout",
     "output_type": "stream",
     "text": [
      "400 /output/02_preprocessed_numpy / 10181.pkl\n"
     ]
    },
    {
     "name": "stdout",
     "output_type": "stream",
     "text": [
      "420 10190_Line 17 - 27_load=0.8_wind=0.4_0.2_1.0.csv\n"
     ]
    },
    {
     "name": "stdout",
     "output_type": "stream",
     "text": [
      "420 /output/02_preprocessed_numpy / 10190.pkl\n"
     ]
    },
    {
     "name": "stdout",
     "output_type": "stream",
     "text": [
      "440 1019_Line 05 - 08_load=0.7_wind=0_0.8_1.0.csv\n"
     ]
    },
    {
     "name": "stdout",
     "output_type": "stream",
     "text": [
      "440 /output/02_preprocessed_numpy / 1019.pkl\n"
     ]
    },
    {
     "name": "stdout",
     "output_type": "stream",
     "text": [
      "460 10208_Line 16 - 21_load=0.8_wind=0.4_0.4_0.csv\n"
     ]
    },
    {
     "name": "stdout",
     "output_type": "stream",
     "text": [
      "460 /output/02_preprocessed_numpy / 10208.pkl\n"
     ]
    },
    {
     "name": "stdout",
     "output_type": "stream",
     "text": [
      "480 10217_Line 08 - 09_load=0.8_wind=0.4_0.4_0.csv\n"
     ]
    },
    {
     "name": "stdout",
     "output_type": "stream",
     "text": [
      "480 /output/02_preprocessed_numpy / 10217.pkl\n"
     ]
    },
    {
     "name": "stdout",
     "output_type": "stream",
     "text": [
      "500 10226_Line 15 - 16_load=0.8_wind=0.4_0.4_0.csv\n"
     ]
    },
    {
     "name": "stdout",
     "output_type": "stream",
     "text": [
      "500 /output/02_preprocessed_numpy / 10226.pkl\n"
     ]
    },
    {
     "name": "stdout",
     "output_type": "stream",
     "text": [
      "520 10235_Line 04 - 05_load=0.8_wind=0.4_0.4_0.2.csv\n"
     ]
    },
    {
     "name": "stdout",
     "output_type": "stream",
     "text": [
      "520 /output/02_preprocessed_numpy / 10235.pkl\n"
     ]
    },
    {
     "name": "stdout",
     "output_type": "stream",
     "text": [
      "540 10244_Line 26 - 28_load=0.8_wind=0.4_0.4_0.2.csv\n"
     ]
    },
    {
     "name": "stdout",
     "output_type": "stream",
     "text": [
      "540 /output/02_preprocessed_numpy / 10244.pkl\n"
     ]
    },
    {
     "name": "stdout",
     "output_type": "stream",
     "text": [
      "560 10253_Line 02 - 25_load=0.8_wind=0.4_0.4_0.2.csv\n"
     ]
    },
    {
     "name": "stdout",
     "output_type": "stream",
     "text": [
      "560 /output/02_preprocessed_numpy / 10253.pkl\n"
     ]
    },
    {
     "name": "stdout",
     "output_type": "stream",
     "text": [
      "580 10262_Line 04 - 14_load=0.8_wind=0.4_0.4_0.2.csv\n"
     ]
    },
    {
     "name": "stdout",
     "output_type": "stream",
     "text": [
      "580 /output/02_preprocessed_numpy / 10262.pkl\n"
     ]
    },
    {
     "name": "stdout",
     "output_type": "stream",
     "text": [
      "600 10271_Line 06 - 11_load=0.8_wind=0.4_0.4_0.4.csv\n"
     ]
    },
    {
     "name": "stdout",
     "output_type": "stream",
     "text": [
      "600 /output/02_preprocessed_numpy / 10271.pkl\n"
     ]
    },
    {
     "name": "stdout",
     "output_type": "stream",
     "text": [
      "620 10280_Line 28 - 29_load=0.8_wind=0.4_0.4_0.4.csv\n"
     ]
    },
    {
     "name": "stdout",
     "output_type": "stream",
     "text": [
      "620 /output/02_preprocessed_numpy / 10280.pkl\n"
     ]
    },
    {
     "name": "stdout",
     "output_type": "stream",
     "text": [
      "640 1028_Line 16 - 21_load=0.7_wind=0_1.0_0.csv\n"
     ]
    },
    {
     "name": "stdout",
     "output_type": "stream",
     "text": [
      "640 /output/02_preprocessed_numpy / 1028.pkl\n"
     ]
    },
    {
     "name": "stdout",
     "output_type": "stream",
     "text": [
      "660 10299_Line 01 - 39_load=0.8_wind=0.4_0.4_0.4.csv\n"
     ]
    },
    {
     "name": "stdout",
     "output_type": "stream",
     "text": [
      "660 /output/02_preprocessed_numpy / 10299.pkl\n"
     ]
    },
    {
     "name": "stdout",
     "output_type": "stream",
     "text": [
      "680 10307_Line 10 - 13_load=0.8_wind=0.4_0.4_0.6.csv\n"
     ]
    },
    {
     "name": "stdout",
     "output_type": "stream",
     "text": [
      "680 /output/02_preprocessed_numpy / 10307.pkl\n"
     ]
    },
    {
     "name": "stdout",
     "output_type": "stream",
     "text": [
      "700 10316_Line 22 - 23_load=0.8_wind=0.4_0.4_0.6.csv\n"
     ]
    },
    {
     "name": "stdout",
     "output_type": "stream",
     "text": [
      "700 /output/02_preprocessed_numpy / 10316.pkl\n"
     ]
    },
    {
     "name": "stdout",
     "output_type": "stream",
     "text": [
      "720 10325_Line 26 - 27_load=0.8_wind=0.4_0.4_0.6.csv\n"
     ]
    },
    {
     "name": "stdout",
     "output_type": "stream",
     "text": [
      "720 /output/02_preprocessed_numpy / 10325.pkl\n"
     ]
    },
    {
     "name": "stdout",
     "output_type": "stream",
     "text": [
      "740 10334_Line 09 - 39_load=0.8_wind=0.4_0.4_0.6.csv\n"
     ]
    },
    {
     "name": "stdout",
     "output_type": "stream",
     "text": [
      "740 /output/02_preprocessed_numpy / 10334.pkl\n"
     ]
    },
    {
     "name": "stdout",
     "output_type": "stream",
     "text": [
      "760 10343_Line 16 - 19_load=0.8_wind=0.4_0.4_0.8.csv\n"
     ]
    },
    {
     "name": "stdout",
     "output_type": "stream",
     "text": [
      "760 /output/02_preprocessed_numpy / 10343.pkl\n"
     ]
    },
    {
     "name": "stdout",
     "output_type": "stream",
     "text": [
      "780 10352_Line 03 - 18_load=0.8_wind=0.4_0.4_0.8.csv\n"
     ]
    },
    {
     "name": "stdout",
     "output_type": "stream",
     "text": [
      "780 /output/02_preprocessed_numpy / 10352.pkl\n"
     ]
    },
    {
     "name": "stdout",
     "output_type": "stream",
     "text": [
      "800 10361_Line 16 - 17_load=0.8_wind=0.4_0.4_0.8.csv\n"
     ]
    },
    {
     "name": "stdout",
     "output_type": "stream",
     "text": [
      "800 /output/02_preprocessed_numpy / 10361.pkl\n"
     ]
    },
    {
     "name": "stdout",
     "output_type": "stream",
     "text": [
      "820 10370_Line 05 - 06_load=0.8_wind=0.4_0.4_0.8.csv\n"
     ]
    },
    {
     "name": "stdout",
     "output_type": "stream",
     "text": [
      "820 /output/02_preprocessed_numpy / 10370.pkl\n"
     ]
    },
    {
     "name": "stdout",
     "output_type": "stream",
     "text": [
      "840 1037_Line 08 - 09_load=0.7_wind=0_1.0_0.csv\n"
     ]
    },
    {
     "name": "stdout",
     "output_type": "stream",
     "text": [
      "840 /output/02_preprocessed_numpy / 1037.pkl\n"
     ]
    },
    {
     "name": "stdout",
     "output_type": "stream",
     "text": [
      "860 10389_Line 02 - 25_load=0.8_wind=0.4_0.4_1.0.csv\n"
     ]
    },
    {
     "name": "stdout",
     "output_type": "stream",
     "text": [
      "860 /output/02_preprocessed_numpy / 10389.pkl\n"
     ]
    },
    {
     "name": "stdout",
     "output_type": "stream",
     "text": [
      "880 10398_Line 04 - 14_load=0.8_wind=0.4_0.4_1.0.csv\n"
     ]
    },
    {
     "name": "stdout",
     "output_type": "stream",
     "text": [
      "880 /output/02_preprocessed_numpy / 10398.pkl\n"
     ]
    },
    {
     "name": "stdout",
     "output_type": "stream",
     "text": [
      "900 10406_Line 06 - 07_load=0.8_wind=0.4_0.6_0.csv\n"
     ]
    },
    {
     "name": "stdout",
     "output_type": "stream",
     "text": [
      "900 /output/02_preprocessed_numpy / 10406.pkl\n"
     ]
    },
    {
     "name": "stdout",
     "output_type": "stream",
     "text": [
      "920 10415_Line 26 - 29_load=0.8_wind=0.4_0.6_0.csv\n"
     ]
    },
    {
     "name": "stdout",
     "output_type": "stream",
     "text": [
      "920 /output/02_preprocessed_numpy / 10415.pkl\n"
     ]
    },
    {
     "name": "stdout",
     "output_type": "stream",
     "text": [
      "940 10424_Line 01 - 02_load=0.8_wind=0.4_0.6_0.csv\n"
     ]
    },
    {
     "name": "stdout",
     "output_type": "stream",
     "text": [
      "940 /output/02_preprocessed_numpy / 10424.pkl\n"
     ]
    },
    {
     "name": "stdout",
     "output_type": "stream",
     "text": [
      "960 10433_Line 03 - 04_load=0.8_wind=0.4_0.6_0.csv\n"
     ]
    },
    {
     "name": "stdout",
     "output_type": "stream",
     "text": [
      "960 /output/02_preprocessed_numpy / 10433.pkl\n"
     ]
    },
    {
     "name": "stdout",
     "output_type": "stream",
     "text": [
      "980 10442_Line 10 - 11_load=0.8_wind=0.4_0.6_0.2.csv\n"
     ]
    },
    {
     "name": "stdout",
     "output_type": "stream",
     "text": [
      "980 /output/02_preprocessed_numpy / 10442.pkl\n"
     ]
    },
    {
     "name": "stdout",
     "output_type": "stream",
     "text": [
      "1000 10451_Line 23 - 24_load=0.8_wind=0.4_0.6_0.2.csv\n"
     ]
    },
    {
     "name": "stdout",
     "output_type": "stream",
     "text": [
      "1000 /output/02_preprocessed_numpy / 10451.pkl\n"
     ]
    },
    {
     "name": "stdout",
     "output_type": "stream",
     "text": [
      "1020 10460_Line 17 - 18_load=0.8_wind=0.4_0.6_0.2.csv\n"
     ]
    },
    {
     "name": "stdout",
     "output_type": "stream",
     "text": [
      "1020 /output/02_preprocessed_numpy / 10460.pkl\n"
     ]
    },
    {
     "name": "stdout",
     "output_type": "stream",
     "text": [
      "1040 1046_Line 15 - 16_load=0.7_wind=0_1.0_0.csv\n"
     ]
    },
    {
     "name": "stdout",
     "output_type": "stream",
     "text": [
      "1040 /output/02_preprocessed_numpy / 1046.pkl\n"
     ]
    },
    {
     "name": "stdout",
     "output_type": "stream",
     "text": [
      "1060 10479_Line 16 - 19_load=0.8_wind=0.4_0.6_0.4.csv\n"
     ]
    },
    {
     "name": "stdout",
     "output_type": "stream",
     "text": [
      "1060 /output/02_preprocessed_numpy / 10479.pkl\n"
     ]
    },
    {
     "name": "stdout",
     "output_type": "stream",
     "text": [
      "1080 10488_Line 03 - 18_load=0.8_wind=0.4_0.6_0.4.csv\n"
     ]
    },
    {
     "name": "stdout",
     "output_type": "stream",
     "text": [
      "1080 /output/02_preprocessed_numpy / 10488.pkl\n"
     ]
    },
    {
     "name": "stdout",
     "output_type": "stream",
     "text": [
      "1100 10497_Line 16 - 17_load=0.8_wind=0.4_0.6_0.4.csv\n"
     ]
    },
    {
     "name": "stdout",
     "output_type": "stream",
     "text": [
      "1100 /output/02_preprocessed_numpy / 10497.pkl\n"
     ]
    },
    {
     "name": "stdout",
     "output_type": "stream",
     "text": [
      "1120 10505_Line 05 - 08_load=0.8_wind=0.4_0.6_0.4.csv\n"
     ]
    },
    {
     "name": "stdout",
     "output_type": "stream",
     "text": [
      "1120 /output/02_preprocessed_numpy / 10505.pkl\n"
     ]
    },
    {
     "name": "stdout",
     "output_type": "stream",
     "text": [
      "1140 10514_Line 16 - 21_load=0.8_wind=0.4_0.6_0.6.csv\n"
     ]
    },
    {
     "name": "stdout",
     "output_type": "stream",
     "text": [
      "1140 /output/02_preprocessed_numpy / 10514.pkl\n"
     ]
    },
    {
     "name": "stdout",
     "output_type": "stream",
     "text": [
      "1160 10523_Line 08 - 09_load=0.8_wind=0.4_0.6_0.6.csv\n"
     ]
    },
    {
     "name": "stdout",
     "output_type": "stream",
     "text": [
      "1160 /output/02_preprocessed_numpy / 10523.pkl\n"
     ]
    },
    {
     "name": "stdout",
     "output_type": "stream",
     "text": [
      "1180 10532_Line 15 - 16_load=0.8_wind=0.4_0.6_0.6.csv\n"
     ]
    },
    {
     "name": "stdout",
     "output_type": "stream",
     "text": [
      "1180 /output/02_preprocessed_numpy / 10532.pkl\n"
     ]
    },
    {
     "name": "stdout",
     "output_type": "stream",
     "text": [
      "1200 10541_Line 04 - 05_load=0.8_wind=0.4_0.6_0.8.csv\n"
     ]
    },
    {
     "name": "stdout",
     "output_type": "stream",
     "text": [
      "1200 /output/02_preprocessed_numpy / 10541.pkl\n"
     ]
    },
    {
     "name": "stdout",
     "output_type": "stream",
     "text": [
      "1220 10550_Line 26 - 28_load=0.8_wind=0.4_0.6_0.8.csv\n"
     ]
    },
    {
     "name": "stdout",
     "output_type": "stream",
     "text": [
      "1220 /output/02_preprocessed_numpy / 10550.pkl\n"
     ]
    },
    {
     "name": "stdout",
     "output_type": "stream",
     "text": [
      "1240 1055_Line 04 - 05_load=0.7_wind=0_1.0_0.2.csv\n"
     ]
    },
    {
     "name": "stdout",
     "output_type": "stream",
     "text": [
      "1240 /output/02_preprocessed_numpy / 1055.pkl\n"
     ]
    },
    {
     "name": "stdout",
     "output_type": "stream",
     "text": [
      "1260 10569_Line 03 - 04_load=0.8_wind=0.4_0.6_0.8.csv\n"
     ]
    },
    {
     "name": "stdout",
     "output_type": "stream",
     "text": [
      "1260 /output/02_preprocessed_numpy / 10569.pkl\n"
     ]
    },
    {
     "name": "stdout",
     "output_type": "stream",
     "text": [
      "1280 10578_Line 10 - 11_load=0.8_wind=0.4_0.6_1.0.csv\n"
     ]
    },
    {
     "name": "stdout",
     "output_type": "stream",
     "text": [
      "1280 /output/02_preprocessed_numpy / 10578.pkl\n"
     ]
    },
    {
     "name": "stdout",
     "output_type": "stream",
     "text": [
      "1300 10587_Line 23 - 24_load=0.8_wind=0.4_0.6_1.0.csv\n"
     ]
    },
    {
     "name": "stdout",
     "output_type": "stream",
     "text": [
      "1300 /output/02_preprocessed_numpy / 10587.pkl\n"
     ]
    },
    {
     "name": "stdout",
     "output_type": "stream",
     "text": [
      "1320 10596_Line 17 - 18_load=0.8_wind=0.4_0.6_1.0.csv\n"
     ]
    },
    {
     "name": "stdout",
     "output_type": "stream",
     "text": [
      "1320 /output/02_preprocessed_numpy / 10596.pkl\n"
     ]
    },
    {
     "name": "stdout",
     "output_type": "stream",
     "text": [
      "1340 10604_Line 02 - 03_load=0.8_wind=0.4_0.6_1.0.csv\n"
     ]
    },
    {
     "name": "stdout",
     "output_type": "stream",
     "text": [
      "1340 /output/02_preprocessed_numpy / 10604.pkl\n"
     ]
    },
    {
     "name": "stdout",
     "output_type": "stream",
     "text": [
      "1360 10613_Line 10 - 13_load=0.8_wind=0.4_0.8_0.csv\n"
     ]
    },
    {
     "name": "stdout",
     "output_type": "stream",
     "text": [
      "1360 /output/02_preprocessed_numpy / 10613.pkl\n"
     ]
    },
    {
     "name": "stdout",
     "output_type": "stream",
     "text": [
      "1380 10622_Line 22 - 23_load=0.8_wind=0.4_0.8_0.csv\n"
     ]
    },
    {
     "name": "stdout",
     "output_type": "stream",
     "text": [
      "1380 /output/02_preprocessed_numpy / 10622.pkl\n"
     ]
    },
    {
     "name": "stdout",
     "output_type": "stream",
     "text": [
      "1400 10631_Line 26 - 27_load=0.8_wind=0.4_0.8_0.csv\n"
     ]
    },
    {
     "name": "stdout",
     "output_type": "stream",
     "text": [
      "1400 /output/02_preprocessed_numpy / 10631.pkl\n"
     ]
    },
    {
     "name": "stdout",
     "output_type": "stream",
     "text": [
      "1420 10640_Line 09 - 39_load=0.8_wind=0.4_0.8_0.csv\n"
     ]
    },
    {
     "name": "stdout",
     "output_type": "stream",
     "text": [
      "1420 /output/02_preprocessed_numpy / 10640.pkl\n"
     ]
    },
    {
     "name": "stdout",
     "output_type": "stream",
     "text": [
      "1440 1064_Line 26 - 28_load=0.7_wind=0_1.0_0.2.csv\n"
     ]
    },
    {
     "name": "stdout",
     "output_type": "stream",
     "text": [
      "1440 /output/02_preprocessed_numpy / 1064.pkl\n"
     ]
    },
    {
     "name": "stdout",
     "output_type": "stream",
     "text": [
      "1460 10659_Line 08 - 09_load=0.8_wind=0.4_0.8_0.2.csv\n"
     ]
    },
    {
     "name": "stdout",
     "output_type": "stream",
     "text": [
      "1460 /output/02_preprocessed_numpy / 10659.pkl\n"
     ]
    },
    {
     "name": "stdout",
     "output_type": "stream",
     "text": [
      "1480 10668_Line 15 - 16_load=0.8_wind=0.4_0.8_0.2.csv\n"
     ]
    },
    {
     "name": "stdout",
     "output_type": "stream",
     "text": [
      "1480 /output/02_preprocessed_numpy / 10668.pkl\n"
     ]
    },
    {
     "name": "stdout",
     "output_type": "stream",
     "text": [
      "1500 10677_Line 04 - 05_load=0.8_wind=0.4_0.8_0.4.csv\n"
     ]
    },
    {
     "name": "stdout",
     "output_type": "stream",
     "text": [
      "1500 /output/02_preprocessed_numpy / 10677.pkl\n"
     ]
    },
    {
     "name": "stdout",
     "output_type": "stream",
     "text": [
      "1520 10686_Line 26 - 28_load=0.8_wind=0.4_0.8_0.4.csv\n"
     ]
    },
    {
     "name": "stdout",
     "output_type": "stream",
     "text": [
      "1520 /output/02_preprocessed_numpy / 10686.pkl\n"
     ]
    },
    {
     "name": "stdout",
     "output_type": "stream",
     "text": [
      "1540 10695_Line 02 - 25_load=0.8_wind=0.4_0.8_0.4.csv\n"
     ]
    },
    {
     "name": "stdout",
     "output_type": "stream",
     "text": [
      "1540 /output/02_preprocessed_numpy / 10695.pkl\n"
     ]
    },
    {
     "name": "stdout",
     "output_type": "stream",
     "text": [
      "1560 10703_Line 14 - 15_load=0.8_wind=0.4_0.8_0.4.csv\n"
     ]
    },
    {
     "name": "stdout",
     "output_type": "stream",
     "text": [
      "1560 /output/02_preprocessed_numpy / 10703.pkl\n"
     ]
    },
    {
     "name": "stdout",
     "output_type": "stream",
     "text": [
      "1580 10712_Line 06 - 07_load=0.8_wind=0.4_0.8_0.6.csv\n"
     ]
    },
    {
     "name": "stdout",
     "output_type": "stream",
     "text": [
      "1580 /output/02_preprocessed_numpy / 10712.pkl\n"
     ]
    },
    {
     "name": "stdout",
     "output_type": "stream",
     "text": [
      "1600 10721_Line 26 - 29_load=0.8_wind=0.4_0.8_0.6.csv\n"
     ]
    },
    {
     "name": "stdout",
     "output_type": "stream",
     "text": [
      "1600 /output/02_preprocessed_numpy / 10721.pkl\n"
     ]
    },
    {
     "name": "stdout",
     "output_type": "stream",
     "text": [
      "1620 10730_Line 01 - 02_load=0.8_wind=0.4_0.8_0.6.csv\n"
     ]
    },
    {
     "name": "stdout",
     "output_type": "stream",
     "text": [
      "1620 /output/02_preprocessed_numpy / 10730.pkl\n"
     ]
    },
    {
     "name": "stdout",
     "output_type": "stream",
     "text": [
      "1640 1073_Line 02 - 25_load=0.7_wind=0_1.0_0.2.csv\n"
     ]
    },
    {
     "name": "stdout",
     "output_type": "stream",
     "text": [
      "1640 /output/02_preprocessed_numpy / 1073.pkl\n"
     ]
    },
    {
     "name": "stdout",
     "output_type": "stream",
     "text": [
      "1660 10749_Line 10 - 13_load=0.8_wind=0.4_0.8_0.8.csv\n"
     ]
    },
    {
     "name": "stdout",
     "output_type": "stream",
     "text": [
      "1660 /output/02_preprocessed_numpy / 10749.pkl\n"
     ]
    },
    {
     "name": "stdout",
     "output_type": "stream",
     "text": [
      "1680 10758_Line 22 - 23_load=0.8_wind=0.4_0.8_0.8.csv\n"
     ]
    },
    {
     "name": "stdout",
     "output_type": "stream",
     "text": [
      "1680 /output/02_preprocessed_numpy / 10758.pkl\n"
     ]
    },
    {
     "name": "stdout",
     "output_type": "stream",
     "text": [
      "1700 10767_Line 26 - 27_load=0.8_wind=0.4_0.8_0.8.csv\n"
     ]
    },
    {
     "name": "stdout",
     "output_type": "stream",
     "text": [
      "1700 /output/02_preprocessed_numpy / 10767.pkl\n"
     ]
    },
    {
     "name": "stdout",
     "output_type": "stream",
     "text": [
      "1720 10776_Line 09 - 39_load=0.8_wind=0.4_0.8_0.8.csv\n"
     ]
    },
    {
     "name": "stdout",
     "output_type": "stream",
     "text": [
      "1720 /output/02_preprocessed_numpy / 10776.pkl\n"
     ]
    },
    {
     "name": "stdout",
     "output_type": "stream",
     "text": [
      "----- Error in processing  10781_Line 06 - 11_load=0.8_wind=0.4_0.8_1.0.csv  --- Mostly due to cascading failure \n"
     ]
    },
    {
     "name": "stdout",
     "output_type": "stream",
     "text": [
      "1740 10785_Line 16 - 19_load=0.8_wind=0.4_0.8_1.0.csv\n"
     ]
    },
    {
     "name": "stdout",
     "output_type": "stream",
     "text": [
      "1740 /output/02_preprocessed_numpy / 10785.pkl\n"
     ]
    },
    {
     "name": "stdout",
     "output_type": "stream",
     "text": [
      "1760 10794_Line 03 - 18_load=0.8_wind=0.4_0.8_1.0.csv\n"
     ]
    },
    {
     "name": "stdout",
     "output_type": "stream",
     "text": [
      "1760 /output/02_preprocessed_numpy / 10794.pkl\n"
     ]
    },
    {
     "name": "stdout",
     "output_type": "stream",
     "text": [
      "1780 10802_Line 17 - 27_load=0.8_wind=0.4_0.8_1.0.csv\n"
     ]
    },
    {
     "name": "stdout",
     "output_type": "stream",
     "text": [
      "1780 /output/02_preprocessed_numpy / 10802.pkl\n"
     ]
    },
    {
     "name": "stdout",
     "output_type": "stream",
     "text": [
      "1800 10811_Line 05 - 08_load=0.8_wind=0.4_0.8_1.0.csv\n"
     ]
    },
    {
     "name": "stdout",
     "output_type": "stream",
     "text": [
      "1800 /output/02_preprocessed_numpy / 10811.pkl\n"
     ]
    },
    {
     "name": "stdout",
     "output_type": "stream",
     "text": [
      "1820 10820_Line 16 - 21_load=0.8_wind=0.4_1.0_0.csv\n"
     ]
    },
    {
     "name": "stdout",
     "output_type": "stream",
     "text": [
      "1820 /output/02_preprocessed_numpy / 10820.pkl\n"
     ]
    },
    {
     "name": "stdout",
     "output_type": "stream",
     "text": [
      "1840 1082_Line 04 - 14_load=0.7_wind=0_1.0_0.2.csv\n"
     ]
    },
    {
     "name": "stdout",
     "output_type": "stream",
     "text": [
      "1840 /output/02_preprocessed_numpy / 1082.pkl\n"
     ]
    },
    {
     "name": "stdout",
     "output_type": "stream",
     "text": [
      "1860 10839_Line 14 - 15_load=0.8_wind=0.4_1.0_0.csv\n"
     ]
    },
    {
     "name": "stdout",
     "output_type": "stream",
     "text": [
      "1860 /output/02_preprocessed_numpy / 10839.pkl\n"
     ]
    },
    {
     "name": "stdout",
     "output_type": "stream",
     "text": [
      "1880 10848_Line 06 - 07_load=0.8_wind=0.4_1.0_0.2.csv\n"
     ]
    },
    {
     "name": "stdout",
     "output_type": "stream",
     "text": [
      "1880 /output/02_preprocessed_numpy / 10848.pkl\n"
     ]
    },
    {
     "name": "stdout",
     "output_type": "stream",
     "text": [
      "1900 10857_Line 26 - 29_load=0.8_wind=0.4_1.0_0.2.csv\n"
     ]
    },
    {
     "name": "stdout",
     "output_type": "stream",
     "text": [
      "1900 /output/02_preprocessed_numpy / 10857.pkl\n"
     ]
    },
    {
     "name": "stdout",
     "output_type": "stream",
     "text": [
      "1920 10866_Line 01 - 02_load=0.8_wind=0.4_1.0_0.2.csv\n"
     ]
    },
    {
     "name": "stdout",
     "output_type": "stream",
     "text": [
      "1920 /output/02_preprocessed_numpy / 10866.pkl\n"
     ]
    },
    {
     "name": "stdout",
     "output_type": "stream",
     "text": [
      "1940 10875_Line 03 - 04_load=0.8_wind=0.4_1.0_0.2.csv\n"
     ]
    },
    {
     "name": "stdout",
     "output_type": "stream",
     "text": [
      "1940 /output/02_preprocessed_numpy / 10875.pkl\n"
     ]
    },
    {
     "name": "stdout",
     "output_type": "stream",
     "text": [
      "1960 10884_Line 10 - 11_load=0.8_wind=0.4_1.0_0.4.csv\n"
     ]
    },
    {
     "name": "stdout",
     "output_type": "stream",
     "text": [
      "1960 /output/02_preprocessed_numpy / 10884.pkl\n"
     ]
    },
    {
     "name": "stdout",
     "output_type": "stream",
     "text": [
      "1980 10893_Line 23 - 24_load=0.8_wind=0.4_1.0_0.4.csv\n"
     ]
    },
    {
     "name": "stdout",
     "output_type": "stream",
     "text": [
      "1980 /output/02_preprocessed_numpy / 10893.pkl\n"
     ]
    },
    {
     "name": "stdout",
     "output_type": "stream",
     "text": [
      "2000 10901_Line 25 - 26_load=0.8_wind=0.4_1.0_0.4.csv\n"
     ]
    },
    {
     "name": "stdout",
     "output_type": "stream",
     "text": [
      "2000 /output/02_preprocessed_numpy / 10901.pkl\n"
     ]
    },
    {
     "name": "stdout",
     "output_type": "stream",
     "text": [
      "2020 10910_Line 02 - 03_load=0.8_wind=0.4_1.0_0.4.csv\n"
     ]
    },
    {
     "name": "stdout",
     "output_type": "stream",
     "text": [
      "2020 /output/02_preprocessed_numpy / 10910.pkl\n"
     ]
    },
    {
     "name": "stdout",
     "output_type": "stream",
     "text": [
      "2040 1091_Line 06 - 11_load=0.7_wind=0_1.0_0.4.csv\n"
     ]
    },
    {
     "name": "stdout",
     "output_type": "stream",
     "text": [
      "2040 /output/02_preprocessed_numpy / 1091.pkl\n"
     ]
    },
    {
     "name": "stdout",
     "output_type": "stream",
     "text": [
      "2060 10929_Line 21 - 22_load=0.8_wind=0.4_1.0_0.6.csv\n"
     ]
    },
    {
     "name": "stdout",
     "output_type": "stream",
     "text": [
      "2060 /output/02_preprocessed_numpy / 10929.pkl\n"
     ]
    },
    {
     "name": "stdout",
     "output_type": "stream",
     "text": [
      "2080 10938_Line 17 - 27_load=0.8_wind=0.4_1.0_0.6.csv\n"
     ]
    },
    {
     "name": "stdout",
     "output_type": "stream",
     "text": [
      "2080 /output/02_preprocessed_numpy / 10938.pkl\n"
     ]
    },
    {
     "name": "stdout",
     "output_type": "stream",
     "text": [
      "2100 10947_Line 05 - 08_load=0.8_wind=0.4_1.0_0.6.csv\n"
     ]
    },
    {
     "name": "stdout",
     "output_type": "stream",
     "text": [
      "2100 /output/02_preprocessed_numpy / 10947.pkl\n"
     ]
    },
    {
     "name": "stdout",
     "output_type": "stream",
     "text": [
      "2120 10956_Line 16 - 21_load=0.8_wind=0.4_1.0_0.8.csv\n"
     ]
    },
    {
     "name": "stdout",
     "output_type": "stream",
     "text": [
      "2120 /output/02_preprocessed_numpy / 10956.pkl\n"
     ]
    },
    {
     "name": "stdout",
     "output_type": "stream",
     "text": [
      "2140 10965_Line 08 - 09_load=0.8_wind=0.4_1.0_0.8.csv\n"
     ]
    },
    {
     "name": "stdout",
     "output_type": "stream",
     "text": [
      "2140 /output/02_preprocessed_numpy / 10965.pkl\n"
     ]
    },
    {
     "name": "stdout",
     "output_type": "stream",
     "text": [
      "2160 10974_Line 15 - 16_load=0.8_wind=0.4_1.0_0.8.csv\n"
     ]
    },
    {
     "name": "stdout",
     "output_type": "stream",
     "text": [
      "2160 /output/02_preprocessed_numpy / 10974.pkl\n"
     ]
    },
    {
     "name": "stdout",
     "output_type": "stream",
     "text": [
      "2180 10983_Line 04 - 05_load=0.8_wind=0.4_1.0_1.0.csv\n"
     ]
    },
    {
     "name": "stdout",
     "output_type": "stream",
     "text": [
      "2180 /output/02_preprocessed_numpy / 10983.pkl\n"
     ]
    },
    {
     "name": "stdout",
     "output_type": "stream",
     "text": [
      "2200 10992_Line 26 - 28_load=0.8_wind=0.4_1.0_1.0.csv\n"
     ]
    },
    {
     "name": "stdout",
     "output_type": "stream",
     "text": [
      "2200 /output/02_preprocessed_numpy / 10992.pkl\n"
     ]
    },
    {
     "name": "stdout",
     "output_type": "stream",
     "text": [
      "2220 10_Line 26 - 28_load=0.7_wind=0_0_0.csv\n"
     ]
    },
    {
     "name": "stdout",
     "output_type": "stream",
     "text": [
      "2220 /output/02_preprocessed_numpy / 10.pkl\n"
     ]
    },
    {
     "name": "stdout",
     "output_type": "stream",
     "text": [
      "2240 11009_Line 14 - 15_load=0.8_wind=0.4_1.0_1.0.csv\n"
     ]
    },
    {
     "name": "stdout",
     "output_type": "stream",
     "text": [
      "2240 /output/02_preprocessed_numpy / 11009.pkl\n"
     ]
    },
    {
     "name": "stdout",
     "output_type": "stream",
     "text": [
      "2260 11018_Line 06 - 07_load=0.8_wind=0.6_0_0.csv\n"
     ]
    },
    {
     "name": "stdout",
     "output_type": "stream",
     "text": [
      "2260 /output/02_preprocessed_numpy / 11018.pkl\n"
     ]
    },
    {
     "name": "stdout",
     "output_type": "stream",
     "text": [
      "2280 11027_Line 26 - 29_load=0.8_wind=0.6_0_0.csv\n"
     ]
    },
    {
     "name": "stdout",
     "output_type": "stream",
     "text": [
      "2280 /output/02_preprocessed_numpy / 11027.pkl\n"
     ]
    },
    {
     "name": "stdout",
     "output_type": "stream",
     "text": [
      "2300 11036_Line 01 - 02_load=0.8_wind=0.6_0_0.csv\n"
     ]
    },
    {
     "name": "stdout",
     "output_type": "stream",
     "text": [
      "2300 /output/02_preprocessed_numpy / 11036.pkl\n"
     ]
    },
    {
     "name": "stdout",
     "output_type": "stream",
     "text": [
      "2320 11045_Line 03 - 04_load=0.8_wind=0.6_0_0.csv\n"
     ]
    },
    {
     "name": "stdout",
     "output_type": "stream",
     "text": [
      "2320 /output/02_preprocessed_numpy / 11045.pkl\n"
     ]
    },
    {
     "name": "stdout",
     "output_type": "stream",
     "text": [
      "2340 11054_Line 10 - 11_load=0.8_wind=0.6_0_0.2.csv\n"
     ]
    },
    {
     "name": "stdout",
     "output_type": "stream",
     "text": [
      "2340 /output/02_preprocessed_numpy / 11054.pkl\n"
     ]
    },
    {
     "name": "stdout",
     "output_type": "stream",
     "text": [
      "2360 11063_Line 23 - 24_load=0.8_wind=0.6_0_0.2.csv\n"
     ]
    },
    {
     "name": "stdout",
     "output_type": "stream",
     "text": [
      "2360 /output/02_preprocessed_numpy / 11063.pkl\n"
     ]
    },
    {
     "name": "stdout",
     "output_type": "stream",
     "text": [
      "2380 11072_Line 17 - 18_load=0.8_wind=0.6_0_0.2.csv\n"
     ]
    },
    {
     "name": "stdout",
     "output_type": "stream",
     "text": [
      "2380 /output/02_preprocessed_numpy / 11072.pkl\n"
     ]
    },
    {
     "name": "stdout",
     "output_type": "stream",
     "text": [
      "2400 11081_Line 01 - 39_load=0.8_wind=0.6_0_0.2.csv\n"
     ]
    },
    {
     "name": "stdout",
     "output_type": "stream",
     "text": [
      "2400 /output/02_preprocessed_numpy / 11081.pkl\n"
     ]
    },
    {
     "name": "stdout",
     "output_type": "stream",
     "text": [
      "2420 11090_Line 13 - 14_load=0.8_wind=0.6_0_0.4.csv\n"
     ]
    },
    {
     "name": "stdout",
     "output_type": "stream",
     "text": [
      "2420 /output/02_preprocessed_numpy / 11090.pkl\n"
     ]
    },
    {
     "name": "stdout",
     "output_type": "stream",
     "text": [
      "2440 1109_Line 25 - 26_load=0.7_wind=0_1.0_0.4.csv\n"
     ]
    },
    {
     "name": "stdout",
     "output_type": "stream",
     "text": [
      "2440 /output/02_preprocessed_numpy / 1109.pkl\n"
     ]
    },
    {
     "name": "stdout",
     "output_type": "stream",
     "text": [
      "2460 11108_Line 17 - 27_load=0.8_wind=0.6_0_0.4.csv\n"
     ]
    },
    {
     "name": "stdout",
     "output_type": "stream",
     "text": [
      "2460 /output/02_preprocessed_numpy / 11108.pkl\n"
     ]
    },
    {
     "name": "stdout",
     "output_type": "stream",
     "text": [
      "2480 11117_Line 05 - 08_load=0.8_wind=0.6_0_0.4.csv\n"
     ]
    },
    {
     "name": "stdout",
     "output_type": "stream",
     "text": [
      "2480 /output/02_preprocessed_numpy / 11117.pkl\n"
     ]
    },
    {
     "name": "stdout",
     "output_type": "stream",
     "text": [
      "2500 11126_Line 16 - 21_load=0.8_wind=0.6_0_0.6.csv\n"
     ]
    },
    {
     "name": "stdout",
     "output_type": "stream",
     "text": [
      "2500 /output/02_preprocessed_numpy / 11126.pkl\n"
     ]
    },
    {
     "name": "stdout",
     "output_type": "stream",
     "text": [
      "2520 11135_Line 08 - 09_load=0.8_wind=0.6_0_0.6.csv\n"
     ]
    },
    {
     "name": "stdout",
     "output_type": "stream",
     "text": [
      "2520 /output/02_preprocessed_numpy / 11135.pkl\n"
     ]
    },
    {
     "name": "stdout",
     "output_type": "stream",
     "text": [
      "2540 11144_Line 15 - 16_load=0.8_wind=0.6_0_0.6.csv\n"
     ]
    },
    {
     "name": "stdout",
     "output_type": "stream",
     "text": [
      "2540 /output/02_preprocessed_numpy / 11144.pkl\n"
     ]
    },
    {
     "name": "stdout",
     "output_type": "stream",
     "text": [
      "2560 11153_Line 04 - 05_load=0.8_wind=0.6_0_0.8.csv\n"
     ]
    },
    {
     "name": "stdout",
     "output_type": "stream",
     "text": [
      "2560 /output/02_preprocessed_numpy / 11153.pkl\n"
     ]
    },
    {
     "name": "stdout",
     "output_type": "stream",
     "text": [
      "2580 11162_Line 26 - 28_load=0.8_wind=0.6_0_0.8.csv\n"
     ]
    },
    {
     "name": "stdout",
     "output_type": "stream",
     "text": [
      "2580 /output/02_preprocessed_numpy / 11162.pkl\n"
     ]
    },
    {
     "name": "stdout",
     "output_type": "stream",
     "text": [
      "2600 11171_Line 02 - 25_load=0.8_wind=0.6_0_0.8.csv\n"
     ]
    },
    {
     "name": "stdout",
     "output_type": "stream",
     "text": [
      "2600 /output/02_preprocessed_numpy / 11171.pkl\n"
     ]
    },
    {
     "name": "stdout",
     "output_type": "stream",
     "text": [
      "2620 11180_Line 04 - 14_load=0.8_wind=0.6_0_0.8.csv\n"
     ]
    },
    {
     "name": "stdout",
     "output_type": "stream",
     "text": [
      "2620 /output/02_preprocessed_numpy / 11180.pkl\n"
     ]
    },
    {
     "name": "stdout",
     "output_type": "stream",
     "text": [
      "2640 1118_Line 02 - 03_load=0.7_wind=0_1.0_0.4.csv\n"
     ]
    },
    {
     "name": "stdout",
     "output_type": "stream",
     "text": [
      "2640 /output/02_preprocessed_numpy / 1118.pkl\n"
     ]
    },
    {
     "name": "stdout",
     "output_type": "stream",
     "text": [
      "2660 11199_Line 23 - 24_load=0.8_wind=0.6_0_1.0.csv\n"
     ]
    },
    {
     "name": "stdout",
     "output_type": "stream",
     "text": [
      "2660 /output/02_preprocessed_numpy / 11199.pkl\n"
     ]
    },
    {
     "name": "stdout",
     "output_type": "stream",
     "text": [
      "2680 11207_Line 25 - 26_load=0.8_wind=0.6_0_1.0.csv\n"
     ]
    },
    {
     "name": "stdout",
     "output_type": "stream",
     "text": [
      "2680 /output/02_preprocessed_numpy / 11207.pkl\n"
     ]
    },
    {
     "name": "stdout",
     "output_type": "stream",
     "text": [
      "2700 11216_Line 02 - 03_load=0.8_wind=0.6_0_1.0.csv\n"
     ]
    },
    {
     "name": "stdout",
     "output_type": "stream",
     "text": [
      "2700 /output/02_preprocessed_numpy / 11216.pkl\n"
     ]
    },
    {
     "name": "stdout",
     "output_type": "stream",
     "text": [
      "2720 11225_Line 10 - 13_load=0.8_wind=0.6_0.2_0.csv\n"
     ]
    },
    {
     "name": "stdout",
     "output_type": "stream",
     "text": [
      "2720 /output/02_preprocessed_numpy / 11225.pkl\n"
     ]
    },
    {
     "name": "stdout",
     "output_type": "stream",
     "text": [
      "2740 11234_Line 22 - 23_load=0.8_wind=0.6_0.2_0.csv\n"
     ]
    },
    {
     "name": "stdout",
     "output_type": "stream",
     "text": [
      "2740 /output/02_preprocessed_numpy / 11234.pkl\n"
     ]
    },
    {
     "name": "stdout",
     "output_type": "stream",
     "text": [
      "2760 11243_Line 26 - 27_load=0.8_wind=0.6_0.2_0.csv\n"
     ]
    },
    {
     "name": "stdout",
     "output_type": "stream",
     "text": [
      "2760 /output/02_preprocessed_numpy / 11243.pkl\n"
     ]
    },
    {
     "name": "stdout",
     "output_type": "stream",
     "text": [
      "2780 11252_Line 09 - 39_load=0.8_wind=0.6_0.2_0.csv\n"
     ]
    },
    {
     "name": "stdout",
     "output_type": "stream",
     "text": [
      "2780 /output/02_preprocessed_numpy / 11252.pkl\n"
     ]
    },
    {
     "name": "stdout",
     "output_type": "stream",
     "text": [
      "2800 11261_Line 16 - 19_load=0.8_wind=0.6_0.2_0.2.csv\n"
     ]
    },
    {
     "name": "stdout",
     "output_type": "stream",
     "text": [
      "2800 /output/02_preprocessed_numpy / 11261.pkl\n"
     ]
    },
    {
     "name": "stdout",
     "output_type": "stream",
     "text": [
      "2820 11270_Line 03 - 18_load=0.8_wind=0.6_0.2_0.2.csv\n"
     ]
    },
    {
     "name": "stdout",
     "output_type": "stream",
     "text": [
      "2820 /output/02_preprocessed_numpy / 11270.pkl\n"
     ]
    },
    {
     "name": "stdout",
     "output_type": "stream",
     "text": [
      "2840 1127_Line 10 - 13_load=0.7_wind=0_1.0_0.6.csv\n"
     ]
    },
    {
     "name": "stdout",
     "output_type": "stream",
     "text": [
      "2840 /output/02_preprocessed_numpy / 1127.pkl\n"
     ]
    },
    {
     "name": "stdout",
     "output_type": "stream",
     "text": [
      "2860 11289_Line 04 - 05_load=0.8_wind=0.6_0.2_0.4.csv\n"
     ]
    },
    {
     "name": "stdout",
     "output_type": "stream",
     "text": [
      "2860 /output/02_preprocessed_numpy / 11289.pkl\n"
     ]
    },
    {
     "name": "stdout",
     "output_type": "stream",
     "text": [
      "2880 11298_Line 26 - 28_load=0.8_wind=0.6_0.2_0.4.csv\n"
     ]
    },
    {
     "name": "stdout",
     "output_type": "stream",
     "text": [
      "2880 /output/02_preprocessed_numpy / 11298.pkl\n"
     ]
    },
    {
     "name": "stdout",
     "output_type": "stream",
     "text": [
      "2900 11306_Line 07 - 08_load=0.8_wind=0.6_0.2_0.4.csv\n"
     ]
    },
    {
     "name": "stdout",
     "output_type": "stream",
     "text": [
      "2900 /output/02_preprocessed_numpy / 11306.pkl\n"
     ]
    },
    {
     "name": "stdout",
     "output_type": "stream",
     "text": [
      "2920 11315_Line 14 - 15_load=0.8_wind=0.6_0.2_0.4.csv\n"
     ]
    },
    {
     "name": "stdout",
     "output_type": "stream",
     "text": [
      "2920 /output/02_preprocessed_numpy / 11315.pkl\n"
     ]
    },
    {
     "name": "stdout",
     "output_type": "stream",
     "text": [
      "2940 11324_Line 06 - 07_load=0.8_wind=0.6_0.2_0.6.csv\n"
     ]
    },
    {
     "name": "stdout",
     "output_type": "stream",
     "text": [
      "2940 /output/02_preprocessed_numpy / 11324.pkl\n"
     ]
    },
    {
     "name": "stdout",
     "output_type": "stream",
     "text": [
      "2960 11333_Line 26 - 29_load=0.8_wind=0.6_0.2_0.6.csv\n"
     ]
    },
    {
     "name": "stdout",
     "output_type": "stream",
     "text": [
      "2960 /output/02_preprocessed_numpy / 11333.pkl\n"
     ]
    },
    {
     "name": "stdout",
     "output_type": "stream",
     "text": [
      "2980 11342_Line 01 - 02_load=0.8_wind=0.6_0.2_0.6.csv\n"
     ]
    },
    {
     "name": "stdout",
     "output_type": "stream",
     "text": [
      "2980 /output/02_preprocessed_numpy / 11342.pkl\n"
     ]
    },
    {
     "name": "stdout",
     "output_type": "stream",
     "text": [
      "3000 11351_Line 03 - 04_load=0.8_wind=0.6_0.2_0.6.csv\n"
     ]
    },
    {
     "name": "stdout",
     "output_type": "stream",
     "text": [
      "3000 /output/02_preprocessed_numpy / 11351.pkl\n"
     ]
    },
    {
     "name": "stdout",
     "output_type": "stream",
     "text": [
      "3020 11360_Line 10 - 11_load=0.8_wind=0.6_0.2_0.8.csv\n"
     ]
    },
    {
     "name": "stdout",
     "output_type": "stream",
     "text": [
      "3020 /output/02_preprocessed_numpy / 11360.pkl\n"
     ]
    },
    {
     "name": "stdout",
     "output_type": "stream",
     "text": [
      "3040 1136_Line 22 - 23_load=0.7_wind=0_1.0_0.6.csv\n"
     ]
    },
    {
     "name": "stdout",
     "output_type": "stream",
     "text": [
      "3040 /output/02_preprocessed_numpy / 1136.pkl\n"
     ]
    },
    {
     "name": "stdout",
     "output_type": "stream",
     "text": [
      "3060 11379_Line 26 - 27_load=0.8_wind=0.6_0.2_0.8.csv\n"
     ]
    },
    {
     "name": "stdout",
     "output_type": "stream",
     "text": [
      "3060 /output/02_preprocessed_numpy / 11379.pkl\n"
     ]
    },
    {
     "name": "stdout",
     "output_type": "stream",
     "text": [
      "3080 11388_Line 09 - 39_load=0.8_wind=0.6_0.2_0.8.csv\n"
     ]
    },
    {
     "name": "stdout",
     "output_type": "stream",
     "text": [
      "3080 /output/02_preprocessed_numpy / 11388.pkl\n"
     ]
    },
    {
     "name": "stdout",
     "output_type": "stream",
     "text": [
      "3100 11397_Line 16 - 19_load=0.8_wind=0.6_0.2_1.0.csv\n"
     ]
    },
    {
     "name": "stdout",
     "output_type": "stream",
     "text": [
      "3100 /output/02_preprocessed_numpy / 11397.pkl\n"
     ]
    },
    {
     "name": "stdout",
     "output_type": "stream",
     "text": [
      "3120 11405_Line 21 - 22_load=0.8_wind=0.6_0.2_1.0.csv\n"
     ]
    },
    {
     "name": "stdout",
     "output_type": "stream",
     "text": [
      "3120 /output/02_preprocessed_numpy / 11405.pkl\n"
     ]
    },
    {
     "name": "stdout",
     "output_type": "stream",
     "text": [
      "3140 11414_Line 17 - 27_load=0.8_wind=0.6_0.2_1.0.csv\n"
     ]
    },
    {
     "name": "stdout",
     "output_type": "stream",
     "text": [
      "3140 /output/02_preprocessed_numpy / 11414.pkl\n"
     ]
    },
    {
     "name": "stdout",
     "output_type": "stream",
     "text": [
      "3160 11423_Line 05 - 08_load=0.8_wind=0.6_0.2_1.0.csv\n"
     ]
    },
    {
     "name": "stdout",
     "output_type": "stream",
     "text": [
      "3160 /output/02_preprocessed_numpy / 11423.pkl\n"
     ]
    },
    {
     "name": "stdout",
     "output_type": "stream",
     "text": [
      "3180 11432_Line 16 - 21_load=0.8_wind=0.6_0.4_0.csv\n"
     ]
    },
    {
     "name": "stdout",
     "output_type": "stream",
     "text": [
      "3180 /output/02_preprocessed_numpy / 11432.pkl\n"
     ]
    },
    {
     "name": "stdout",
     "output_type": "stream",
     "text": [
      "3200 11441_Line 08 - 09_load=0.8_wind=0.6_0.4_0.csv\n"
     ]
    }
   ],
   "source": [
    "load_clean_save_data_numpy_by_batch(\n",
    "    root_dir='/data/Data',\n",
    "    output_data_dir='/output/02_preprocessed_numpy',\n",
    "    sep=',',\n",
    "    header=[0,1],\n",
    "    time_window=10.0,\n",
    "    means=means,\n",
    "    stds=stds\n",
    ")"
   ]
  },
  {
   "cell_type": "code",
   "execution_count": 85,
   "metadata": {
    "collapsed": false
   },
   "outputs": [
    {
     "data": {
      "text/plain": [
       "[<matplotlib.lines.Line2D at 0x7fee13bd79e8>,\n",
       " <matplotlib.lines.Line2D at 0x7fee13bd7710>,\n",
       " <matplotlib.lines.Line2D at 0x7fee1c6f92b0>,\n",
       " <matplotlib.lines.Line2D at 0x7fee13c60240>,\n",
       " <matplotlib.lines.Line2D at 0x7fee13c604e0>,\n",
       " <matplotlib.lines.Line2D at 0x7fee13c60588>,\n",
       " <matplotlib.lines.Line2D at 0x7fee13c60c50>,\n",
       " <matplotlib.lines.Line2D at 0x7fee13c60ef0>,\n",
       " <matplotlib.lines.Line2D at 0x7fee13c60a90>,\n",
       " <matplotlib.lines.Line2D at 0x7fee13c60160>,\n",
       " <matplotlib.lines.Line2D at 0x7fee1c758400>,\n",
       " <matplotlib.lines.Line2D at 0x7fee13c60550>,\n",
       " <matplotlib.lines.Line2D at 0x7fee13c60080>,\n",
       " <matplotlib.lines.Line2D at 0x7fee189086d8>,\n",
       " <matplotlib.lines.Line2D at 0x7fee13e5ba90>,\n",
       " <matplotlib.lines.Line2D at 0x7fee13e5bc88>,\n",
       " <matplotlib.lines.Line2D at 0x7fee13e5bfd0>,\n",
       " <matplotlib.lines.Line2D at 0x7fee13e5be10>,\n",
       " <matplotlib.lines.Line2D at 0x7fee13e5bb00>,\n",
       " <matplotlib.lines.Line2D at 0x7fee13e5b828>,\n",
       " <matplotlib.lines.Line2D at 0x7fee13e5b7f0>,\n",
       " <matplotlib.lines.Line2D at 0x7fee13e5b080>,\n",
       " <matplotlib.lines.Line2D at 0x7fee1c941c18>,\n",
       " <matplotlib.lines.Line2D at 0x7fee13ded240>,\n",
       " <matplotlib.lines.Line2D at 0x7fee13dedfd0>,\n",
       " <matplotlib.lines.Line2D at 0x7fee13dede80>,\n",
       " <matplotlib.lines.Line2D at 0x7fee13ded4a8>,\n",
       " <matplotlib.lines.Line2D at 0x7fee13dedb00>,\n",
       " <matplotlib.lines.Line2D at 0x7fee13deddd8>,\n",
       " <matplotlib.lines.Line2D at 0x7fee13ded320>,\n",
       " <matplotlib.lines.Line2D at 0x7fee13ded470>,\n",
       " <matplotlib.lines.Line2D at 0x7fee13b56320>,\n",
       " <matplotlib.lines.Line2D at 0x7fee13b565c0>,\n",
       " <matplotlib.lines.Line2D at 0x7fee13b56438>,\n",
       " <matplotlib.lines.Line2D at 0x7fee13b56e48>,\n",
       " <matplotlib.lines.Line2D at 0x7fee13b56780>,\n",
       " <matplotlib.lines.Line2D at 0x7fee13b56c18>,\n",
       " <matplotlib.lines.Line2D at 0x7fee13b56588>,\n",
       " <matplotlib.lines.Line2D at 0x7fee13b56668>,\n",
       " <matplotlib.lines.Line2D at 0x7fee13ddd4a8>,\n",
       " <matplotlib.lines.Line2D at 0x7fee13ddd5c0>,\n",
       " <matplotlib.lines.Line2D at 0x7fee13ddd358>,\n",
       " <matplotlib.lines.Line2D at 0x7fee13dddd30>,\n",
       " <matplotlib.lines.Line2D at 0x7fee13ddda90>,\n",
       " <matplotlib.lines.Line2D at 0x7fee13ddd6a0>,\n",
       " <matplotlib.lines.Line2D at 0x7fee13ddd828>,\n",
       " <matplotlib.lines.Line2D at 0x7fee18a48208>,\n",
       " <matplotlib.lines.Line2D at 0x7fee18a48240>,\n",
       " <matplotlib.lines.Line2D at 0x7fee18a48630>,\n",
       " <matplotlib.lines.Line2D at 0x7fee18a48dd8>,\n",
       " <matplotlib.lines.Line2D at 0x7fee18a482b0>,\n",
       " <matplotlib.lines.Line2D at 0x7fee185bf4e0>,\n",
       " <matplotlib.lines.Line2D at 0x7fee13bf8b70>,\n",
       " <matplotlib.lines.Line2D at 0x7fee13bf84a8>,\n",
       " <matplotlib.lines.Line2D at 0x7fee13bf8c88>,\n",
       " <matplotlib.lines.Line2D at 0x7fee13bf8518>,\n",
       " <matplotlib.lines.Line2D at 0x7fee13bf83c8>,\n",
       " <matplotlib.lines.Line2D at 0x7fee13bf8208>,\n",
       " <matplotlib.lines.Line2D at 0x7fee13bf8240>,\n",
       " <matplotlib.lines.Line2D at 0x7fee13bf8780>,\n",
       " <matplotlib.lines.Line2D at 0x7fee13dcdb38>,\n",
       " <matplotlib.lines.Line2D at 0x7fee13dcda58>,\n",
       " <matplotlib.lines.Line2D at 0x7fee13dcd588>,\n",
       " <matplotlib.lines.Line2D at 0x7fee13dcd390>,\n",
       " <matplotlib.lines.Line2D at 0x7fee13dcdac8>,\n",
       " <matplotlib.lines.Line2D at 0x7fee13dcd828>,\n",
       " <matplotlib.lines.Line2D at 0x7fee13dcd080>,\n",
       " <matplotlib.lines.Line2D at 0x7fee13c9f0b8>,\n",
       " <matplotlib.lines.Line2D at 0x7fee13c9f438>,\n",
       " <matplotlib.lines.Line2D at 0x7fee13c9fc50>,\n",
       " <matplotlib.lines.Line2D at 0x7fee13c9fa90>,\n",
       " <matplotlib.lines.Line2D at 0x7fee13c9fe10>,\n",
       " <matplotlib.lines.Line2D at 0x7fee13c9fdd8>,\n",
       " <matplotlib.lines.Line2D at 0x7fee13c9fe80>,\n",
       " <matplotlib.lines.Line2D at 0x7fee18872198>,\n",
       " <matplotlib.lines.Line2D at 0x7fee18872ef0>,\n",
       " <matplotlib.lines.Line2D at 0x7fee18872b70>,\n",
       " <matplotlib.lines.Line2D at 0x7fee188729b0>,\n",
       " <matplotlib.lines.Line2D at 0x7fee18872128>,\n",
       " <matplotlib.lines.Line2D at 0x7fee18872e48>,\n",
       " <matplotlib.lines.Line2D at 0x7fee18872358>,\n",
       " <matplotlib.lines.Line2D at 0x7fee18872320>,\n",
       " <matplotlib.lines.Line2D at 0x7fee18872668>,\n",
       " <matplotlib.lines.Line2D at 0x7fee1885f470>,\n",
       " <matplotlib.lines.Line2D at 0x7fee1885f3c8>,\n",
       " <matplotlib.lines.Line2D at 0x7fee1885f7b8>,\n",
       " <matplotlib.lines.Line2D at 0x7fee1885f208>,\n",
       " <matplotlib.lines.Line2D at 0x7fee1885f400>,\n",
       " <matplotlib.lines.Line2D at 0x7fee1885f9e8>,\n",
       " <matplotlib.lines.Line2D at 0x7fee1885fdd8>,\n",
       " <matplotlib.lines.Line2D at 0x7fee13bdcda0>,\n",
       " <matplotlib.lines.Line2D at 0x7fee13bdc4e0>,\n",
       " <matplotlib.lines.Line2D at 0x7fee13bdc5f8>,\n",
       " <matplotlib.lines.Line2D at 0x7fee13bdca90>,\n",
       " <matplotlib.lines.Line2D at 0x7fee13bdcfd0>,\n",
       " <matplotlib.lines.Line2D at 0x7fee13bdc6d8>,\n",
       " <matplotlib.lines.Line2D at 0x7fee13bdc668>,\n",
       " <matplotlib.lines.Line2D at 0x7fee13bdcba8>,\n",
       " <matplotlib.lines.Line2D at 0x7fee13bce860>,\n",
       " <matplotlib.lines.Line2D at 0x7fee13bce8d0>,\n",
       " <matplotlib.lines.Line2D at 0x7fee13bce780>,\n",
       " <matplotlib.lines.Line2D at 0x7fee13bcefd0>,\n",
       " <matplotlib.lines.Line2D at 0x7fee13bcec18>,\n",
       " <matplotlib.lines.Line2D at 0x7fee13bceb38>,\n",
       " <matplotlib.lines.Line2D at 0x7fee13bcea58>,\n",
       " <matplotlib.lines.Line2D at 0x7fee13bce390>,\n",
       " <matplotlib.lines.Line2D at 0x7fee18a37e48>,\n",
       " <matplotlib.lines.Line2D at 0x7fee18a37fd0>,\n",
       " <matplotlib.lines.Line2D at 0x7fee18a377b8>,\n",
       " <matplotlib.lines.Line2D at 0x7fee18a37dd8>,\n",
       " <matplotlib.lines.Line2D at 0x7fee18a37a58>,\n",
       " <matplotlib.lines.Line2D at 0x7fee18a37cc0>,\n",
       " <matplotlib.lines.Line2D at 0x7fee18a37908>,\n",
       " <matplotlib.lines.Line2D at 0x7fee18a37f60>,\n",
       " <matplotlib.lines.Line2D at 0x7fee188804e0>,\n",
       " <matplotlib.lines.Line2D at 0x7fee188804a8>,\n",
       " <matplotlib.lines.Line2D at 0x7fee18880710>,\n",
       " <matplotlib.lines.Line2D at 0x7fee188802b0>,\n",
       " <matplotlib.lines.Line2D at 0x7fee188801d0>,\n",
       " <matplotlib.lines.Line2D at 0x7fee18880cc0>,\n",
       " <matplotlib.lines.Line2D at 0x7fee18880f60>,\n",
       " <matplotlib.lines.Line2D at 0x7fee18880860>,\n",
       " <matplotlib.lines.Line2D at 0x7fee13c8ff28>,\n",
       " <matplotlib.lines.Line2D at 0x7fee13c8f048>,\n",
       " <matplotlib.lines.Line2D at 0x7fee13c8f9b0>,\n",
       " <matplotlib.lines.Line2D at 0x7fee13c8f128>,\n",
       " <matplotlib.lines.Line2D at 0x7fee13c8f668>,\n",
       " <matplotlib.lines.Line2D at 0x7fee13c8f390>,\n",
       " <matplotlib.lines.Line2D at 0x7fee13c8fd30>,\n",
       " <matplotlib.lines.Line2D at 0x7fee13c8f6a0>,\n",
       " <matplotlib.lines.Line2D at 0x7fee13c8fd68>,\n",
       " <matplotlib.lines.Line2D at 0x7fee13e9a2e8>,\n",
       " <matplotlib.lines.Line2D at 0x7fee13e9a6a0>,\n",
       " <matplotlib.lines.Line2D at 0x7fee13e9aa90>,\n",
       " <matplotlib.lines.Line2D at 0x7fee13e9ad30>,\n",
       " <matplotlib.lines.Line2D at 0x7fee13e9aba8>,\n",
       " <matplotlib.lines.Line2D at 0x7fee13e9a8d0>,\n",
       " <matplotlib.lines.Line2D at 0x7fee13e9a710>,\n",
       " <matplotlib.lines.Line2D at 0x7fee13e9a198>,\n",
       " <matplotlib.lines.Line2D at 0x7fee13c9a048>,\n",
       " <matplotlib.lines.Line2D at 0x7fee13c9a908>,\n",
       " <matplotlib.lines.Line2D at 0x7fee13c9a6a0>,\n",
       " <matplotlib.lines.Line2D at 0x7fee13c9a2b0>,\n",
       " <matplotlib.lines.Line2D at 0x7fee13c9a0f0>,\n",
       " <matplotlib.lines.Line2D at 0x7fee13c9a7b8>,\n",
       " <matplotlib.lines.Line2D at 0x7fee13c9a898>,\n",
       " <matplotlib.lines.Line2D at 0x7fee13c4ccc0>,\n",
       " <matplotlib.lines.Line2D at 0x7fee13c4c828>,\n",
       " <matplotlib.lines.Line2D at 0x7fee13c4cf28>,\n",
       " <matplotlib.lines.Line2D at 0x7fee13b97390>,\n",
       " <matplotlib.lines.Line2D at 0x7fee13b97a20>,\n",
       " <matplotlib.lines.Line2D at 0x7fee13b97b38>,\n",
       " <matplotlib.lines.Line2D at 0x7fee13b97eb8>,\n",
       " <matplotlib.lines.Line2D at 0x7fee13b972e8>,\n",
       " <matplotlib.lines.Line2D at 0x7fee13b970f0>,\n",
       " <matplotlib.lines.Line2D at 0x7fee13b97940>,\n",
       " <matplotlib.lines.Line2D at 0x7fee13aef828>,\n",
       " <matplotlib.lines.Line2D at 0x7fee13aef128>,\n",
       " <matplotlib.lines.Line2D at 0x7fee13aef0b8>,\n",
       " <matplotlib.lines.Line2D at 0x7fee13aefda0>,\n",
       " <matplotlib.lines.Line2D at 0x7fee13aef400>,\n",
       " <matplotlib.lines.Line2D at 0x7fee13aef9b0>,\n",
       " <matplotlib.lines.Line2D at 0x7fee13aef630>,\n",
       " <matplotlib.lines.Line2D at 0x7fee13d1a048>,\n",
       " <matplotlib.lines.Line2D at 0x7fee13d1add8>,\n",
       " <matplotlib.lines.Line2D at 0x7fee13d1a978>,\n",
       " <matplotlib.lines.Line2D at 0x7fee13d1a320>,\n",
       " <matplotlib.lines.Line2D at 0x7fee13d1ae48>,\n",
       " <matplotlib.lines.Line2D at 0x7fee13d1a518>,\n",
       " <matplotlib.lines.Line2D at 0x7fee13d1ac88>,\n",
       " <matplotlib.lines.Line2D at 0x7fee13d1ab70>,\n",
       " <matplotlib.lines.Line2D at 0x7fee13c3e780>,\n",
       " <matplotlib.lines.Line2D at 0x7fee13c3e710>,\n",
       " <matplotlib.lines.Line2D at 0x7fee13c3e0f0>,\n",
       " <matplotlib.lines.Line2D at 0x7fee13c3e208>,\n",
       " <matplotlib.lines.Line2D at 0x7fee13c3e390>,\n",
       " <matplotlib.lines.Line2D at 0x7fee13c3ec88>,\n",
       " <matplotlib.lines.Line2D at 0x7fee13c3e3c8>,\n",
       " <matplotlib.lines.Line2D at 0x7fee13c3e2b0>,\n",
       " <matplotlib.lines.Line2D at 0x7fee13c3e128>,\n",
       " <matplotlib.lines.Line2D at 0x7fee1885dcc0>,\n",
       " <matplotlib.lines.Line2D at 0x7fee1885dda0>,\n",
       " <matplotlib.lines.Line2D at 0x7fee1885d6d8>,\n",
       " <matplotlib.lines.Line2D at 0x7fee1885d7b8>,\n",
       " <matplotlib.lines.Line2D at 0x7fee1885d748>,\n",
       " <matplotlib.lines.Line2D at 0x7fee1885df60>,\n",
       " <matplotlib.lines.Line2D at 0x7fee1885d630>,\n",
       " <matplotlib.lines.Line2D at 0x7fee1885d2b0>,\n",
       " <matplotlib.lines.Line2D at 0x7fee1885cc18>,\n",
       " <matplotlib.lines.Line2D at 0x7fee1885c6d8>,\n",
       " <matplotlib.lines.Line2D at 0x7fee1885ce10>,\n",
       " <matplotlib.lines.Line2D at 0x7fee1885ca58>,\n",
       " <matplotlib.lines.Line2D at 0x7fee1885c470>,\n",
       " <matplotlib.lines.Line2D at 0x7fee1885c630>,\n",
       " <matplotlib.lines.Line2D at 0x7fee1885cdd8>,\n",
       " <matplotlib.lines.Line2D at 0x7fee1885ca90>,\n",
       " <matplotlib.lines.Line2D at 0x7fee13cb6208>,\n",
       " <matplotlib.lines.Line2D at 0x7fee13cb6d68>,\n",
       " <matplotlib.lines.Line2D at 0x7fee13cb6668>,\n",
       " <matplotlib.lines.Line2D at 0x7fee13cb62e8>,\n",
       " <matplotlib.lines.Line2D at 0x7fee13cb6080>,\n",
       " <matplotlib.lines.Line2D at 0x7fee13cb6a20>,\n",
       " <matplotlib.lines.Line2D at 0x7fee13cb6550>,\n",
       " <matplotlib.lines.Line2D at 0x7fee1887acc0>,\n",
       " <matplotlib.lines.Line2D at 0x7fee1887ac18>,\n",
       " <matplotlib.lines.Line2D at 0x7fee1887ac88>,\n",
       " <matplotlib.lines.Line2D at 0x7fee1887a8d0>,\n",
       " <matplotlib.lines.Line2D at 0x7fee1887acf8>,\n",
       " <matplotlib.lines.Line2D at 0x7fee1887aac8>,\n",
       " <matplotlib.lines.Line2D at 0x7fee13b8fa20>,\n",
       " <matplotlib.lines.Line2D at 0x7fee13b8fcc0>,\n",
       " <matplotlib.lines.Line2D at 0x7fee13b8f860>,\n",
       " <matplotlib.lines.Line2D at 0x7fee13b8fc18>,\n",
       " <matplotlib.lines.Line2D at 0x7fee13b8f438>,\n",
       " <matplotlib.lines.Line2D at 0x7fee13b8f550>,\n",
       " <matplotlib.lines.Line2D at 0x7fee13b8fb00>,\n",
       " <matplotlib.lines.Line2D at 0x7fee18896f98>,\n",
       " <matplotlib.lines.Line2D at 0x7fee18896eb8>,\n",
       " <matplotlib.lines.Line2D at 0x7fee188966a0>,\n",
       " <matplotlib.lines.Line2D at 0x7fee18896470>,\n",
       " <matplotlib.lines.Line2D at 0x7fee18896320>,\n",
       " <matplotlib.lines.Line2D at 0x7fee18896128>,\n",
       " <matplotlib.lines.Line2D at 0x7fee18896da0>,\n",
       " <matplotlib.lines.Line2D at 0x7fee18896f60>,\n",
       " <matplotlib.lines.Line2D at 0x7fee13bad9e8>,\n",
       " <matplotlib.lines.Line2D at 0x7fee13bade10>,\n",
       " <matplotlib.lines.Line2D at 0x7fee13bad160>,\n",
       " <matplotlib.lines.Line2D at 0x7fee13bad588>,\n",
       " <matplotlib.lines.Line2D at 0x7fee13bada90>,\n",
       " <matplotlib.lines.Line2D at 0x7fee13badfd0>,\n",
       " <matplotlib.lines.Line2D at 0x7fee13bad208>,\n",
       " <matplotlib.lines.Line2D at 0x7fee13bad358>,\n",
       " <matplotlib.lines.Line2D at 0x7fee13bee710>,\n",
       " <matplotlib.lines.Line2D at 0x7fee13beeb38>,\n",
       " <matplotlib.lines.Line2D at 0x7fee13bee080>,\n",
       " <matplotlib.lines.Line2D at 0x7fee13bee4e0>,\n",
       " <matplotlib.lines.Line2D at 0x7fee13bee208>,\n",
       " <matplotlib.lines.Line2D at 0x7fee13beee80>,\n",
       " <matplotlib.lines.Line2D at 0x7fee13beec50>,\n",
       " <matplotlib.lines.Line2D at 0x7fee13bee748>,\n",
       " <matplotlib.lines.Line2D at 0x7fee13e7eda0>,\n",
       " <matplotlib.lines.Line2D at 0x7fee13e7e160>,\n",
       " <matplotlib.lines.Line2D at 0x7fee13e7ecf8>,\n",
       " <matplotlib.lines.Line2D at 0x7fee13e7ec50>,\n",
       " <matplotlib.lines.Line2D at 0x7fee13e7ea90>,\n",
       " <matplotlib.lines.Line2D at 0x7fee13e7e780>,\n",
       " <matplotlib.lines.Line2D at 0x7fee13e7e2b0>,\n",
       " <matplotlib.lines.Line2D at 0x7fee13e7efd0>,\n",
       " <matplotlib.lines.Line2D at 0x7fee13c8d7b8>,\n",
       " <matplotlib.lines.Line2D at 0x7fee13c8de48>,\n",
       " <matplotlib.lines.Line2D at 0x7fee13c8d320>,\n",
       " <matplotlib.lines.Line2D at 0x7fee13c8d160>,\n",
       " <matplotlib.lines.Line2D at 0x7fee13c8dda0>,\n",
       " <matplotlib.lines.Line2D at 0x7fee13c8d0b8>,\n",
       " <matplotlib.lines.Line2D at 0x7fee13c8dcf8>,\n",
       " <matplotlib.lines.Line2D at 0x7fee13c8d470>,\n",
       " <matplotlib.lines.Line2D at 0x7fee13e6dcf8>,\n",
       " <matplotlib.lines.Line2D at 0x7fee13e6d9e8>,\n",
       " <matplotlib.lines.Line2D at 0x7fee13e6dd68>]"
      ]
     },
     "execution_count": 85,
     "metadata": {
     },
     "output_type": "execute_result"
    },
    {
     "data": {
      "image/png": "[encoded data removed]",
      "text/plain": [
       "<Figure size 432x288 with 1 Axes>"
      ]
     },
     "execution_count": 85,
     "metadata": {
      "image/png": {
       "height": 250,
       "width": 382
      }
     },
     "output_type": "execute_result"
    }
   ],
   "source": [
    "np_preprocessed = load_numpy(os.path.join('/output/', '02_preprocessed_numpy'), '10014.pkl')\n",
    "# df_preprocessed = pd.read_csv(os.path.join('/data/Data',simulation_files_dict[10002]), header = [0,1])\n",
    "# df_preprocessed = convert_objects_to_float(df_preprocessed)\n",
    "# df_preprocessed = add_NSG_columns_and_sort_columns_alphabetically(df_preprocessed)\n",
    "# df_preprocessed = remove_disturbance(df_preprocessed)\n",
    "# df_preprocessed = keep_fixed_time_data(df_preprocessed, 10.0)\n",
    "# df_preprocessed = interpolation_reconstruction_delta_T(df_preprocessed, 0.01)\n",
    "pyplot.plot(np_preprocessed[:,0],np_preprocessed[:,1:260])"
   ]
  },
  {
   "cell_type": "code",
   "execution_count": 79,
   "metadata": {
    "collapsed": false
   },
   "outputs": [
    {
     "data": {
      "text/plain": [
       "260"
      ]
     },
     "execution_count": 79,
     "metadata": {
     },
     "output_type": "execute_result"
    }
   ],
   "source": [
    "np_preprocessed.shape[1]"
   ]
  },
  {
   "cell_type": "code",
   "execution_count": 80,
   "metadata": {
    "collapsed": false
   },
   "outputs": [
    {
     "data": {
      "text/plain": [
       "[<matplotlib.lines.Line2D at 0x7fee187116d8>,\n",
       " <matplotlib.lines.Line2D at 0x7fee18711828>,\n",
       " <matplotlib.lines.Line2D at 0x7fee18711978>,\n",
       " <matplotlib.lines.Line2D at 0x7fee18711ac8>,\n",
       " <matplotlib.lines.Line2D at 0x7fee18711c18>,\n",
       " <matplotlib.lines.Line2D at 0x7fee18711d68>,\n",
       " <matplotlib.lines.Line2D at 0x7fee18711eb8>,\n",
       " <matplotlib.lines.Line2D at 0x7fee186ec048>,\n",
       " <matplotlib.lines.Line2D at 0x7fee186ec198>,\n",
       " <matplotlib.lines.Line2D at 0x7fee186ec2e8>,\n",
       " <matplotlib.lines.Line2D at 0x7fee18715320>,\n",
       " <matplotlib.lines.Line2D at 0x7fee186ec550>,\n",
       " <matplotlib.lines.Line2D at 0x7fee186ec6a0>,\n",
       " <matplotlib.lines.Line2D at 0x7fee186ec7f0>,\n",
       " <matplotlib.lines.Line2D at 0x7fee186ec940>,\n",
       " <matplotlib.lines.Line2D at 0x7fee186eca90>,\n",
       " <matplotlib.lines.Line2D at 0x7fee186ecbe0>,\n",
       " <matplotlib.lines.Line2D at 0x7fee186ecd30>,\n",
       " <matplotlib.lines.Line2D at 0x7fee186ece80>,\n",
       " <matplotlib.lines.Line2D at 0x7fee186ecfd0>,\n",
       " <matplotlib.lines.Line2D at 0x7fee186dc160>,\n",
       " <matplotlib.lines.Line2D at 0x7fee186dc2b0>,\n",
       " <matplotlib.lines.Line2D at 0x7fee186dc400>,\n",
       " <matplotlib.lines.Line2D at 0x7fee186dc550>,\n",
       " <matplotlib.lines.Line2D at 0x7fee186dc6a0>,\n",
       " <matplotlib.lines.Line2D at 0x7fee186dc7f0>,\n",
       " <matplotlib.lines.Line2D at 0x7fee186dc940>,\n",
       " <matplotlib.lines.Line2D at 0x7fee186dca90>,\n",
       " <matplotlib.lines.Line2D at 0x7fee186dcbe0>,\n",
       " <matplotlib.lines.Line2D at 0x7fee186dcd30>,\n",
       " <matplotlib.lines.Line2D at 0x7fee186dce80>,\n",
       " <matplotlib.lines.Line2D at 0x7fee186dcfd0>,\n",
       " <matplotlib.lines.Line2D at 0x7fee186e5160>,\n",
       " <matplotlib.lines.Line2D at 0x7fee186e52b0>,\n",
       " <matplotlib.lines.Line2D at 0x7fee186e5400>,\n",
       " <matplotlib.lines.Line2D at 0x7fee186e5550>,\n",
       " <matplotlib.lines.Line2D at 0x7fee186e56a0>,\n",
       " <matplotlib.lines.Line2D at 0x7fee186e57f0>,\n",
       " <matplotlib.lines.Line2D at 0x7fee186e5940>,\n",
       " <matplotlib.lines.Line2D at 0x7fee186e5a90>,\n",
       " <matplotlib.lines.Line2D at 0x7fee186e5be0>,\n",
       " <matplotlib.lines.Line2D at 0x7fee186e5d30>,\n",
       " <matplotlib.lines.Line2D at 0x7fee186e5e80>,\n",
       " <matplotlib.lines.Line2D at 0x7fee186e5fd0>,\n",
       " <matplotlib.lines.Line2D at 0x7fee18706160>,\n",
       " <matplotlib.lines.Line2D at 0x7fee187062b0>,\n",
       " <matplotlib.lines.Line2D at 0x7fee18706400>,\n",
       " <matplotlib.lines.Line2D at 0x7fee18706550>,\n",
       " <matplotlib.lines.Line2D at 0x7fee187066a0>,\n",
       " <matplotlib.lines.Line2D at 0x7fee187067f0>,\n",
       " <matplotlib.lines.Line2D at 0x7fee18706940>,\n",
       " <matplotlib.lines.Line2D at 0x7fee18706a90>,\n",
       " <matplotlib.lines.Line2D at 0x7fee18706be0>,\n",
       " <matplotlib.lines.Line2D at 0x7fee18706d30>,\n",
       " <matplotlib.lines.Line2D at 0x7fee18706e80>,\n",
       " <matplotlib.lines.Line2D at 0x7fee18706fd0>,\n",
       " <matplotlib.lines.Line2D at 0x7fee181d5160>,\n",
       " <matplotlib.lines.Line2D at 0x7fee181d52b0>,\n",
       " <matplotlib.lines.Line2D at 0x7fee181d5400>,\n",
       " <matplotlib.lines.Line2D at 0x7fee181d5550>,\n",
       " <matplotlib.lines.Line2D at 0x7fee181d56a0>,\n",
       " <matplotlib.lines.Line2D at 0x7fee181d57f0>,\n",
       " <matplotlib.lines.Line2D at 0x7fee181d5940>,\n",
       " <matplotlib.lines.Line2D at 0x7fee181d5a90>,\n",
       " <matplotlib.lines.Line2D at 0x7fee181d5be0>,\n",
       " <matplotlib.lines.Line2D at 0x7fee181d5d30>,\n",
       " <matplotlib.lines.Line2D at 0x7fee181d5e80>,\n",
       " <matplotlib.lines.Line2D at 0x7fee181d5fd0>,\n",
       " <matplotlib.lines.Line2D at 0x7fee1819c160>,\n",
       " <matplotlib.lines.Line2D at 0x7fee1819c2b0>,\n",
       " <matplotlib.lines.Line2D at 0x7fee1819c400>,\n",
       " <matplotlib.lines.Line2D at 0x7fee1819c550>,\n",
       " <matplotlib.lines.Line2D at 0x7fee1819c6a0>,\n",
       " <matplotlib.lines.Line2D at 0x7fee1819c7f0>,\n",
       " <matplotlib.lines.Line2D at 0x7fee1819c940>,\n",
       " <matplotlib.lines.Line2D at 0x7fee1819ca90>,\n",
       " <matplotlib.lines.Line2D at 0x7fee1819cbe0>,\n",
       " <matplotlib.lines.Line2D at 0x7fee1819cd30>,\n",
       " <matplotlib.lines.Line2D at 0x7fee1819ce80>,\n",
       " <matplotlib.lines.Line2D at 0x7fee1819cfd0>,\n",
       " <matplotlib.lines.Line2D at 0x7fee181b2160>,\n",
       " <matplotlib.lines.Line2D at 0x7fee181b22b0>,\n",
       " <matplotlib.lines.Line2D at 0x7fee181b2400>,\n",
       " <matplotlib.lines.Line2D at 0x7fee181b2550>,\n",
       " <matplotlib.lines.Line2D at 0x7fee181b26a0>,\n",
       " <matplotlib.lines.Line2D at 0x7fee181b27f0>,\n",
       " <matplotlib.lines.Line2D at 0x7fee181b2940>,\n",
       " <matplotlib.lines.Line2D at 0x7fee181b2a90>,\n",
       " <matplotlib.lines.Line2D at 0x7fee181b2be0>,\n",
       " <matplotlib.lines.Line2D at 0x7fee181b2d30>,\n",
       " <matplotlib.lines.Line2D at 0x7fee181b2e80>,\n",
       " <matplotlib.lines.Line2D at 0x7fee181b2fd0>,\n",
       " <matplotlib.lines.Line2D at 0x7fee181b5160>,\n",
       " <matplotlib.lines.Line2D at 0x7fee181b52b0>,\n",
       " <matplotlib.lines.Line2D at 0x7fee181b5400>,\n",
       " <matplotlib.lines.Line2D at 0x7fee181b5550>,\n",
       " <matplotlib.lines.Line2D at 0x7fee181b56a0>,\n",
       " <matplotlib.lines.Line2D at 0x7fee181b57f0>,\n",
       " <matplotlib.lines.Line2D at 0x7fee181b5940>,\n",
       " <matplotlib.lines.Line2D at 0x7fee181b5a90>,\n",
       " <matplotlib.lines.Line2D at 0x7fee181b5be0>,\n",
       " <matplotlib.lines.Line2D at 0x7fee181b5d30>,\n",
       " <matplotlib.lines.Line2D at 0x7fee181b5e80>,\n",
       " <matplotlib.lines.Line2D at 0x7fee181b5fd0>,\n",
       " <matplotlib.lines.Line2D at 0x7fee1819d160>,\n",
       " <matplotlib.lines.Line2D at 0x7fee1819d2b0>,\n",
       " <matplotlib.lines.Line2D at 0x7fee1819d400>,\n",
       " <matplotlib.lines.Line2D at 0x7fee1819d550>,\n",
       " <matplotlib.lines.Line2D at 0x7fee1819d6a0>,\n",
       " <matplotlib.lines.Line2D at 0x7fee1819d7f0>,\n",
       " <matplotlib.lines.Line2D at 0x7fee1819d940>,\n",
       " <matplotlib.lines.Line2D at 0x7fee1819da90>,\n",
       " <matplotlib.lines.Line2D at 0x7fee1819dbe0>,\n",
       " <matplotlib.lines.Line2D at 0x7fee1819dd30>,\n",
       " <matplotlib.lines.Line2D at 0x7fee1819de80>,\n",
       " <matplotlib.lines.Line2D at 0x7fee1819dfd0>,\n",
       " <matplotlib.lines.Line2D at 0x7fee181c9160>,\n",
       " <matplotlib.lines.Line2D at 0x7fee181c92b0>,\n",
       " <matplotlib.lines.Line2D at 0x7fee181c9400>,\n",
       " <matplotlib.lines.Line2D at 0x7fee181c9550>,\n",
       " <matplotlib.lines.Line2D at 0x7fee181c96a0>,\n",
       " <matplotlib.lines.Line2D at 0x7fee181c97f0>,\n",
       " <matplotlib.lines.Line2D at 0x7fee181c9940>,\n",
       " <matplotlib.lines.Line2D at 0x7fee181c9a90>,\n",
       " <matplotlib.lines.Line2D at 0x7fee181c9be0>,\n",
       " <matplotlib.lines.Line2D at 0x7fee181c9d30>,\n",
       " <matplotlib.lines.Line2D at 0x7fee181c9e80>,\n",
       " <matplotlib.lines.Line2D at 0x7fee181c9fd0>,\n",
       " <matplotlib.lines.Line2D at 0x7fee181d9160>,\n",
       " <matplotlib.lines.Line2D at 0x7fee181d92b0>,\n",
       " <matplotlib.lines.Line2D at 0x7fee181d9400>,\n",
       " <matplotlib.lines.Line2D at 0x7fee181d9550>,\n",
       " <matplotlib.lines.Line2D at 0x7fee181d96a0>,\n",
       " <matplotlib.lines.Line2D at 0x7fee181d97f0>,\n",
       " <matplotlib.lines.Line2D at 0x7fee181d9940>,\n",
       " <matplotlib.lines.Line2D at 0x7fee181d9a90>,\n",
       " <matplotlib.lines.Line2D at 0x7fee181d9be0>,\n",
       " <matplotlib.lines.Line2D at 0x7fee181d9d30>,\n",
       " <matplotlib.lines.Line2D at 0x7fee181d9e80>,\n",
       " <matplotlib.lines.Line2D at 0x7fee181d9fd0>,\n",
       " <matplotlib.lines.Line2D at 0x7fee181c3160>,\n",
       " <matplotlib.lines.Line2D at 0x7fee181c32b0>,\n",
       " <matplotlib.lines.Line2D at 0x7fee181c3400>,\n",
       " <matplotlib.lines.Line2D at 0x7fee181c3550>,\n",
       " <matplotlib.lines.Line2D at 0x7fee181c36a0>,\n",
       " <matplotlib.lines.Line2D at 0x7fee181c37f0>,\n",
       " <matplotlib.lines.Line2D at 0x7fee181c3940>,\n",
       " <matplotlib.lines.Line2D at 0x7fee181c3a90>,\n",
       " <matplotlib.lines.Line2D at 0x7fee181c3be0>,\n",
       " <matplotlib.lines.Line2D at 0x7fee181c3d30>,\n",
       " <matplotlib.lines.Line2D at 0x7fee181c3e80>,\n",
       " <matplotlib.lines.Line2D at 0x7fee181c3fd0>,\n",
       " <matplotlib.lines.Line2D at 0x7fee181a7160>,\n",
       " <matplotlib.lines.Line2D at 0x7fee181a72b0>,\n",
       " <matplotlib.lines.Line2D at 0x7fee181a7400>,\n",
       " <matplotlib.lines.Line2D at 0x7fee181a7550>,\n",
       " <matplotlib.lines.Line2D at 0x7fee181a76a0>,\n",
       " <matplotlib.lines.Line2D at 0x7fee181a77f0>,\n",
       " <matplotlib.lines.Line2D at 0x7fee181a7940>,\n",
       " <matplotlib.lines.Line2D at 0x7fee181a7a90>,\n",
       " <matplotlib.lines.Line2D at 0x7fee181a7be0>,\n",
       " <matplotlib.lines.Line2D at 0x7fee181a7d30>,\n",
       " <matplotlib.lines.Line2D at 0x7fee181a7e80>,\n",
       " <matplotlib.lines.Line2D at 0x7fee181a7fd0>,\n",
       " <matplotlib.lines.Line2D at 0x7fee181cf160>,\n",
       " <matplotlib.lines.Line2D at 0x7fee181cf2b0>,\n",
       " <matplotlib.lines.Line2D at 0x7fee181cf400>,\n",
       " <matplotlib.lines.Line2D at 0x7fee181cf550>,\n",
       " <matplotlib.lines.Line2D at 0x7fee181cf6a0>,\n",
       " <matplotlib.lines.Line2D at 0x7fee181cf7f0>,\n",
       " <matplotlib.lines.Line2D at 0x7fee181cf940>,\n",
       " <matplotlib.lines.Line2D at 0x7fee181cfa90>,\n",
       " <matplotlib.lines.Line2D at 0x7fee181cfbe0>,\n",
       " <matplotlib.lines.Line2D at 0x7fee181cfd30>,\n",
       " <matplotlib.lines.Line2D at 0x7fee181cfe80>,\n",
       " <matplotlib.lines.Line2D at 0x7fee181cffd0>,\n",
       " <matplotlib.lines.Line2D at 0x7fee181d3160>,\n",
       " <matplotlib.lines.Line2D at 0x7fee181d32b0>,\n",
       " <matplotlib.lines.Line2D at 0x7fee181d3400>,\n",
       " <matplotlib.lines.Line2D at 0x7fee181d3550>,\n",
       " <matplotlib.lines.Line2D at 0x7fee181d36a0>,\n",
       " <matplotlib.lines.Line2D at 0x7fee181d37f0>,\n",
       " <matplotlib.lines.Line2D at 0x7fee181d3940>,\n",
       " <matplotlib.lines.Line2D at 0x7fee181d3a90>,\n",
       " <matplotlib.lines.Line2D at 0x7fee181d3be0>,\n",
       " <matplotlib.lines.Line2D at 0x7fee181d3d30>,\n",
       " <matplotlib.lines.Line2D at 0x7fee181d3e80>,\n",
       " <matplotlib.lines.Line2D at 0x7fee181d3fd0>,\n",
       " <matplotlib.lines.Line2D at 0x7fee1cb8e160>,\n",
       " <matplotlib.lines.Line2D at 0x7fee1cb8e2b0>,\n",
       " <matplotlib.lines.Line2D at 0x7fee1cb8e400>,\n",
       " <matplotlib.lines.Line2D at 0x7fee1cb8e550>,\n",
       " <matplotlib.lines.Line2D at 0x7fee1cb8e6a0>,\n",
       " <matplotlib.lines.Line2D at 0x7fee1cb8e7f0>,\n",
       " <matplotlib.lines.Line2D at 0x7fee1cb8e940>,\n",
       " <matplotlib.lines.Line2D at 0x7fee1cb8ea90>,\n",
       " <matplotlib.lines.Line2D at 0x7fee1cb8ebe0>,\n",
       " <matplotlib.lines.Line2D at 0x7fee1cb8ed30>,\n",
       " <matplotlib.lines.Line2D at 0x7fee1cb8ee80>,\n",
       " <matplotlib.lines.Line2D at 0x7fee1cb8efd0>,\n",
       " <matplotlib.lines.Line2D at 0x7fee1cb6e160>,\n",
       " <matplotlib.lines.Line2D at 0x7fee1cb6e2b0>,\n",
       " <matplotlib.lines.Line2D at 0x7fee1cb6e400>,\n",
       " <matplotlib.lines.Line2D at 0x7fee1cb6e550>,\n",
       " <matplotlib.lines.Line2D at 0x7fee1cb6e6a0>,\n",
       " <matplotlib.lines.Line2D at 0x7fee1cb6e7f0>,\n",
       " <matplotlib.lines.Line2D at 0x7fee1cb6e940>,\n",
       " <matplotlib.lines.Line2D at 0x7fee1cb6ea90>,\n",
       " <matplotlib.lines.Line2D at 0x7fee1cb6ebe0>,\n",
       " <matplotlib.lines.Line2D at 0x7fee1cb6ed30>,\n",
       " <matplotlib.lines.Line2D at 0x7fee1cb6ee80>,\n",
       " <matplotlib.lines.Line2D at 0x7fee1cb6efd0>,\n",
       " <matplotlib.lines.Line2D at 0x7fee1cb66160>,\n",
       " <matplotlib.lines.Line2D at 0x7fee1cb662b0>,\n",
       " <matplotlib.lines.Line2D at 0x7fee1cb66400>,\n",
       " <matplotlib.lines.Line2D at 0x7fee1cb66550>,\n",
       " <matplotlib.lines.Line2D at 0x7fee1cb666a0>,\n",
       " <matplotlib.lines.Line2D at 0x7fee1cb667f0>,\n",
       " <matplotlib.lines.Line2D at 0x7fee1cb66940>,\n",
       " <matplotlib.lines.Line2D at 0x7fee1cb66a90>,\n",
       " <matplotlib.lines.Line2D at 0x7fee1cb66be0>,\n",
       " <matplotlib.lines.Line2D at 0x7fee1cb66d30>,\n",
       " <matplotlib.lines.Line2D at 0x7fee1cb66e80>,\n",
       " <matplotlib.lines.Line2D at 0x7fee1cb66fd0>,\n",
       " <matplotlib.lines.Line2D at 0x7fee1cb77160>,\n",
       " <matplotlib.lines.Line2D at 0x7fee1cb772b0>,\n",
       " <matplotlib.lines.Line2D at 0x7fee1cb77400>,\n",
       " <matplotlib.lines.Line2D at 0x7fee1cb77550>,\n",
       " <matplotlib.lines.Line2D at 0x7fee1cb776a0>,\n",
       " <matplotlib.lines.Line2D at 0x7fee1cb777f0>,\n",
       " <matplotlib.lines.Line2D at 0x7fee1cb77940>,\n",
       " <matplotlib.lines.Line2D at 0x7fee1cb77a90>,\n",
       " <matplotlib.lines.Line2D at 0x7fee1cb77be0>,\n",
       " <matplotlib.lines.Line2D at 0x7fee1cb77d30>,\n",
       " <matplotlib.lines.Line2D at 0x7fee1cb77e80>,\n",
       " <matplotlib.lines.Line2D at 0x7fee1cb77fd0>,\n",
       " <matplotlib.lines.Line2D at 0x7fee1cb7d160>,\n",
       " <matplotlib.lines.Line2D at 0x7fee1cb7d2b0>,\n",
       " <matplotlib.lines.Line2D at 0x7fee1cb7d400>,\n",
       " <matplotlib.lines.Line2D at 0x7fee1cb7d550>,\n",
       " <matplotlib.lines.Line2D at 0x7fee1cb7d6a0>,\n",
       " <matplotlib.lines.Line2D at 0x7fee1cb7d7f0>,\n",
       " <matplotlib.lines.Line2D at 0x7fee1cb7d940>,\n",
       " <matplotlib.lines.Line2D at 0x7fee1cb7da90>,\n",
       " <matplotlib.lines.Line2D at 0x7fee1cb7dbe0>,\n",
       " <matplotlib.lines.Line2D at 0x7fee1cb7dd30>,\n",
       " <matplotlib.lines.Line2D at 0x7fee1cb7de80>,\n",
       " <matplotlib.lines.Line2D at 0x7fee1cb7dfd0>,\n",
       " <matplotlib.lines.Line2D at 0x7fee1cb60160>,\n",
       " <matplotlib.lines.Line2D at 0x7fee1cb602b0>,\n",
       " <matplotlib.lines.Line2D at 0x7fee1cb60400>,\n",
       " <matplotlib.lines.Line2D at 0x7fee1cb60550>,\n",
       " <matplotlib.lines.Line2D at 0x7fee1cb606a0>,\n",
       " <matplotlib.lines.Line2D at 0x7fee1cb607f0>,\n",
       " <matplotlib.lines.Line2D at 0x7fee1cb60940>,\n",
       " <matplotlib.lines.Line2D at 0x7fee1cb60a90>,\n",
       " <matplotlib.lines.Line2D at 0x7fee1cb60be0>,\n",
       " <matplotlib.lines.Line2D at 0x7fee1cb60d30>,\n",
       " <matplotlib.lines.Line2D at 0x7fee1cb60e80>]"
      ]
     },
     "execution_count": 80,
     "metadata": {
     },
     "output_type": "execute_result"
    },
    {
     "data": {
      "image/png": "[encoded data removed]",
      "text/plain": [
       "<Figure size 432x288 with 1 Axes>"
      ]
     },
     "execution_count": 80,
     "metadata": {
      "image/png": {
       "height": 250,
       "width": 372
      }
     },
     "output_type": "execute_result"
    }
   ],
   "source": [
   ]
  },
  {
   "cell_type": "code",
   "execution_count": 0,
   "metadata": {
    "collapsed": false
   },
   "outputs": [
   ],
   "source": [
   ]
  },
  {
   "cell_type": "code",
   "execution_count": 0,
   "metadata": {
    "collapsed": false
   },
   "outputs": [
   ],
   "source": [
    "np.abs(df_preprocessed.to_numpy()).max(axis=0)[239]"
   ]
  },
  {
   "cell_type": "code",
   "execution_count": 0,
   "metadata": {
    "collapsed": false,
    "scrolled": true
   },
   "outputs": [
   ],
   "source": [
    "df_preprocessed.columns.to_list()"
   ]
  },
  {
   "cell_type": "code",
   "execution_count": 14,
   "metadata": {
    "collapsed": false
   },
   "outputs": [
    {
     "data": {
      "text/plain": [
       "<matplotlib.axes._subplots.AxesSubplot at 0x7fee1d5449b0>"
      ]
     },
     "execution_count": 14,
     "metadata": {
     },
     "output_type": "execute_result"
    },
    {
     "data": {
      "image/png": "[encoded data removed]",
      "text/plain": [
       "<Figure size 432x288 with 1 Axes>"
      ]
     },
     "execution_count": 14,
     "metadata": {
      "image/png": {
       "height": 250,
       "width": 372
      }
     },
     "output_type": "execute_result"
    }
   ],
   "source": [
    "df_preprocessed.plot(legend = False)"
   ]
  },
  {
   "cell_type": "code",
   "execution_count": 0,
   "metadata": {
    "collapsed": false
   },
   "outputs": [
   ],
   "source": [
   ]
  }
 ],
 "metadata": {
  "kernelspec": {
   "display_name": "Python 3 (SageMath)",
   "language": "python",
   "name": "python3-sage"
  },
  "language_info": {
   "codemirror_mode": {
    "name": "ipython",
    "version": 3
   },
   "file_extension": ".py",
   "mimetype": "text/x-python",
   "name": "python",
   "nbconvert_exporter": "python",
   "pygments_lexer": "ipython3",
   "version": "3.7.3"
  }
 },
 "nbformat": 4,
 "nbformat_minor": 4
}